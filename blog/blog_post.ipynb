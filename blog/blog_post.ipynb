{
 "cells": [
  {
   "cell_type": "code",
   "execution_count": 103,
   "metadata": {},
   "outputs": [],
   "source": [
    "import sys\n",
    "import matplotlib.pyplot as plt\n",
    "import numpy as np\n",
    "from sklearn.linear_model import RidgeCV\n",
    "from sklearn.feature_selection import SelectFromModel\n",
    "from sklearn.ensemble import RandomForestClassifier\n",
    "from sklearn.preprocessing import StandardScaler\n",
    "from sklearn.svm import SVC\n",
    "import pandas as pd\n",
    "sys.path.append(\"..\")"
   ]
  },
  {
   "cell_type": "code",
   "execution_count": 40,
   "metadata": {},
   "outputs": [],
   "source": [
    "class config:\n",
    "    USE_CACHE = True\n",
    "    CACHE_DIR = \"/Users/caseydurfee/msds/data_mining_final_project/cache\"\n",
    "\n",
    "from COVID_data import all_data\n",
    "data = all_data.get_all_data(config)"
   ]
  },
  {
   "cell_type": "markdown",
   "metadata": {},
   "source": [
    "## COVID isn't fair\n",
    "COVID has affected people in different parts of the country very differently.\n",
    "\n",
    "For example, since the start of COVID, The Bronx has a COVID fatality rate of .005431.  Milwaukee has a rate of .002284.  If all of America had the same rate as the Bronx, the country would have had 1.8 Million deaths from COVID so far. If all of America had the same rate as Milwaukee, we would be at 750,000 deaths. That's a difference of over a million lives."
   ]
  },
  {
   "cell_type": "code",
   "execution_count": 14,
   "metadata": {},
   "outputs": [
    {
     "name": "stdout",
     "output_type": "stream",
     "text": [
      "Bronx: 1,792,164.0\n",
      "Milwaukee: 753,707.0\n"
     ]
    }
   ],
   "source": [
    "US_POPULATION = 330000000\n",
    "bronx_deaths = data.DEATH_RATE[data.County == 'Bronx'].iat[0] * US_POPULATION\n",
    "\n",
    "milwaukee_deaths = data.DEATH_RATE[data.County == 'Milwaukee'].iat[0] * US_POPULATION\n",
    "print(\"Bronx County: {:,}\".format(round(bronx_deaths, 0)))\n",
    "print(\"Milwaukee County: {:,}\".format(round(milwaukee_deaths, 0)))"
   ]
  },
  {
   "cell_type": "markdown",
   "metadata": {},
   "source": [
    "Vaccines made things even crazier. For example, in the second year of COVID, The Bronx has had a death rate lower than the national average. If all of America were like the Bronx in year 2 of the pandemic, we'd have 200,000 fewer deaths. The death rate was 3.5x higher in the first year of the pandemic than the second. "
   ]
  },
  {
   "cell_type": "code",
   "execution_count": 22,
   "metadata": {},
   "outputs": [
    {
     "name": "stdout",
     "output_type": "stream",
     "text": [
      "Bronx County (year 2 rate): 790,209.0\n",
      "3.5359246171967014\n"
     ]
    }
   ],
   "source": [
    "## NOTE: multiply by 2 to get the death rate for both years of the pandemic\n",
    "y2_bronx_rate_deaths = 2 * data.DEATH_RATE_SECOND_YEAR[data.County == 'Bronx'].iat[0] * US_POPULATION\n",
    "\n",
    "\n",
    "print(\"Bronx County (year 2 rate): {:,}\".format(round(y2_bronx_rate_deaths, 0)))\n",
    "\n",
    "\n",
    "print(data.DEATH_RATE_FIRST_YEAR[data.County == 'Bronx'].iat[0] / \n",
    "        data.DEATH_RATE_SECOND_YEAR[data.County == 'Bronx'].iat[0])"
   ]
  },
  {
   "cell_type": "code",
   "execution_count": 36,
   "metadata": {},
   "outputs": [],
   "source": [
    "complete_big_county_data = data[(data.DEATHS_SECOND_YEAR > 0) & (data.DEATHS_FIRST_YEAR > 0) & (data.POPN > 50000)]\n",
    "\n",
    "death_ratio = (complete_big_county_data.DEATHS_SECOND_YEAR / complete_big_county_data.DEATHS_FIRST_YEAR)"
   ]
  },
  {
   "cell_type": "code",
   "execution_count": 39,
   "metadata": {},
   "outputs": [
    {
     "data": {
      "text/plain": [
       "0.9816742208046556"
      ]
     },
     "execution_count": 39,
     "metadata": {},
     "output_type": "execute_result"
    }
   ],
   "source": [
    "death_ratio.median()"
   ]
  },
  {
   "cell_type": "markdown",
   "metadata": {},
   "source": [
    "## Can we understand these discrepancies?\n",
    "\n",
    "So, there's huge variance here, but perhaps it's natural variance. Let's look at the distribution of fatality rates."
   ]
  },
  {
   "cell_type": "code",
   "execution_count": 42,
   "metadata": {},
   "outputs": [
    {
     "data": {
      "text/plain": [
       "<AxesSubplot:>"
      ]
     },
     "execution_count": 42,
     "metadata": {},
     "output_type": "execute_result"
    },
    {
     "data": {
      "image/png": "[encoded data removed]",
      "text/plain": [
       "<Figure size 432x288 with 1 Axes>"
      ]
     },
     "metadata": {
      "needs_background": "light"
     },
     "output_type": "display_data"
    }
   ],
   "source": [
    "%matplotlib inline\n",
    "data.DEATH_RATE_FIRST_YEAR.hist()"
   ]
  },
  {
   "cell_type": "code",
   "execution_count": 41,
   "metadata": {},
   "outputs": [
    {
     "data": {
      "text/plain": [
       "<AxesSubplot:>"
      ]
     },
     "execution_count": 41,
     "metadata": {},
     "output_type": "execute_result"
    },
    {
     "data": {
      "image/png": "[encoded data removed]",
      "text/plain": [
       "<Figure size 432x288 with 1 Axes>"
      ]
     },
     "metadata": {
      "needs_background": "light"
     },
     "output_type": "display_data"
    }
   ],
   "source": [
    "data.DEATH_RATE_SECOND_YEAR.hist()"
   ]
  },
  {
   "cell_type": "markdown",
   "metadata": {},
   "source": [
    "Well, that's not very symmetrical. There appears to be a pretty long tail of counties with higher than average death rates."
   ]
  },
  {
   "cell_type": "markdown",
   "metadata": {},
   "source": [
    "Because death rates varied so widely in year one versus year two, I am going to try to fit one model per year. The goal will be to predict whether a county will have a high COVID fatality rate based on the demographic data."
   ]
  },
  {
   "cell_type": "code",
   "execution_count": 83,
   "metadata": {},
   "outputs": [],
   "source": [
    "# x_train, x_test, y_train, y_test = train_test_split(x, y, test_size = 0.2)\n",
    "\n",
    "### drop all columns with deaths information in them; the rest should be safe\n",
    "death_cols = [x for x in data.columns if x.find(\"DEATH\") > -1]\n",
    "\n",
    "### drop all columns that are 'object' types.\n",
    "\n",
    "obj_cols = list(data.dtypes[data.dtypes == \"object\"].index)\n",
    "\n",
    "\n",
    "X = data.dropna()\n",
    "\n",
    "y1_quantiles = pd.qcut(X.DEATH_RATE_FIRST_YEAR, 4, labels=False)\n",
    "\n",
    "X = X.drop(obj_cols, axis=1).drop(death_cols, axis=1)\n",
    "\n",
    "y = (y1_quantiles == 3)\n",
    "\n",
    "\n",
    "## NEXT STEPS\n",
    "## 1. get rid of columns that have high numbers of na's, impute ones that have lower numbers.\n",
    "## 2. need to get rid of vax coverage as a prediction factor for year 2"
   ]
  },
  {
   "cell_type": "markdown",
   "metadata": {},
   "source": [
    "data.info()"
   ]
  },
  {
   "cell_type": "markdown",
   "metadata": {},
   "source": [
    "Because there are so many columns (over 100), I want to try PCA to see what the highest variance columns are."
   ]
  },
  {
   "cell_type": "code",
   "execution_count": null,
   "metadata": {},
   "outputs": [],
   "source": [
    "# from sklearn.feature_selection import SelectKBest\n",
    "# from sklearn.feature_selection import f_classif\n",
    "\n",
    "# fs = SelectKBest(score_func=f_classif, k=10)\n",
    "# X_selected = fs.fit_transform(X, y)\n",
    "\n",
    "# X_selected"
   ]
  },
  {
   "cell_type": "code",
   "execution_count": 111,
   "metadata": {},
   "outputs": [
    {
     "ename": "ValueError",
     "evalue": "when `importance_getter=='auto'`, the underlying estimator SVC should have `coef_` or `feature_importances_` attribute. Either pass a fitted estimator to feature selector or call fit before calling transform.",
     "output_type": "error",
     "traceback": [
      "\u001b[0;31m---------------------------------------------------------------------------\u001b[0m",
      "\u001b[0;31mValueError\u001b[0m                                Traceback (most recent call last)",
      "Input \u001b[0;32mIn [111]\u001b[0m, in \u001b[0;36m<module>\u001b[0;34m\u001b[0m\n\u001b[1;32m     11\u001b[0m sfm \u001b[38;5;241m=\u001b[39m SelectFromModel(_svc, threshold\u001b[38;5;241m=\u001b[39m\u001b[38;5;241m-\u001b[39mnp\u001b[38;5;241m.\u001b[39minf, max_features\u001b[38;5;241m=\u001b[39m\u001b[38;5;241m20\u001b[39m)\u001b[38;5;241m.\u001b[39mfit(scaler\u001b[38;5;241m.\u001b[39mtransform(X), y)\n\u001b[1;32m     12\u001b[0m \u001b[38;5;66;03m#.fit(scaler.transform(X), y)\u001b[39;00m\n\u001b[1;32m     13\u001b[0m \n\u001b[1;32m     14\u001b[0m \n\u001b[1;32m     15\u001b[0m \u001b[38;5;66;03m#print(f\"Features selected by SelectFromModel: {feature_names[sfm.get_support()]}\")\u001b[39;00m\n\u001b[0;32m---> 17\u001b[0m \u001b[38;5;28mprint\u001b[39m(\u001b[38;5;124mf\u001b[39m\u001b[38;5;124m\"\u001b[39m\u001b[38;5;124m selected: \u001b[39m\u001b[38;5;132;01m{\u001b[39;00mfeature_names[sfm\u001b[38;5;241m.\u001b[39mget_support()]\u001b[38;5;132;01m}\u001b[39;00m\u001b[38;5;124m\"\u001b[39m)\n\u001b[1;32m     18\u001b[0m \u001b[38;5;28mprint\u001b[39m(\u001b[38;5;124mf\u001b[39m\u001b[38;5;124m\"\u001b[39m\u001b[38;5;124m out of \u001b[39m\u001b[38;5;132;01m{\u001b[39;00mfeature_names\u001b[38;5;132;01m}\u001b[39;00m\u001b[38;5;124m\"\u001b[39m)\n",
      "File \u001b[0;32m~/.virtualenvs/py3-data/lib/python3.9/site-packages/sklearn/feature_selection/_base.py:53\u001b[0m, in \u001b[0;36mSelectorMixin.get_support\u001b[0;34m(self, indices)\u001b[0m\n\u001b[1;32m     33\u001b[0m \u001b[38;5;28;01mdef\u001b[39;00m \u001b[38;5;21mget_support\u001b[39m(\u001b[38;5;28mself\u001b[39m, indices\u001b[38;5;241m=\u001b[39m\u001b[38;5;28;01mFalse\u001b[39;00m):\n\u001b[1;32m     34\u001b[0m     \u001b[38;5;124;03m\"\"\"\u001b[39;00m\n\u001b[1;32m     35\u001b[0m \u001b[38;5;124;03m    Get a mask, or integer index, of the features selected.\u001b[39;00m\n\u001b[1;32m     36\u001b[0m \n\u001b[0;32m   (...)\u001b[0m\n\u001b[1;32m     51\u001b[0m \u001b[38;5;124;03m        values are indices into the input feature vector.\u001b[39;00m\n\u001b[1;32m     52\u001b[0m \u001b[38;5;124;03m    \"\"\"\u001b[39;00m\n\u001b[0;32m---> 53\u001b[0m     mask \u001b[38;5;241m=\u001b[39m \u001b[38;5;28;43mself\u001b[39;49m\u001b[38;5;241;43m.\u001b[39;49m\u001b[43m_get_support_mask\u001b[49m\u001b[43m(\u001b[49m\u001b[43m)\u001b[49m\n\u001b[1;32m     54\u001b[0m     \u001b[38;5;28;01mreturn\u001b[39;00m mask \u001b[38;5;28;01mif\u001b[39;00m \u001b[38;5;129;01mnot\u001b[39;00m indices \u001b[38;5;28;01melse\u001b[39;00m np\u001b[38;5;241m.\u001b[39mwhere(mask)[\u001b[38;5;241m0\u001b[39m]\n",
      "File \u001b[0;32m~/.virtualenvs/py3-data/lib/python3.9/site-packages/sklearn/feature_selection/_from_model.py:211\u001b[0m, in \u001b[0;36mSelectFromModel._get_support_mask\u001b[0;34m(self)\u001b[0m\n\u001b[1;32m    205\u001b[0m \u001b[38;5;28;01melse\u001b[39;00m:\n\u001b[1;32m    206\u001b[0m     \u001b[38;5;28;01mraise\u001b[39;00m \u001b[38;5;167;01mValueError\u001b[39;00m(\n\u001b[1;32m    207\u001b[0m         \u001b[38;5;124m\"\u001b[39m\u001b[38;5;124mEither fit the model before transform or set\u001b[39m\u001b[38;5;124m\"\u001b[39m\n\u001b[1;32m    208\u001b[0m         \u001b[38;5;124m'\u001b[39m\u001b[38;5;124m \u001b[39m\u001b[38;5;124m\"\u001b[39m\u001b[38;5;124mprefit=True\u001b[39m\u001b[38;5;124m\"\u001b[39m\u001b[38;5;124m while passing the fitted\u001b[39m\u001b[38;5;124m'\u001b[39m\n\u001b[1;32m    209\u001b[0m         \u001b[38;5;124m\"\u001b[39m\u001b[38;5;124m estimator to the constructor.\u001b[39m\u001b[38;5;124m\"\u001b[39m\n\u001b[1;32m    210\u001b[0m     )\n\u001b[0;32m--> 211\u001b[0m scores \u001b[38;5;241m=\u001b[39m \u001b[43m_get_feature_importances\u001b[49m\u001b[43m(\u001b[49m\n\u001b[1;32m    212\u001b[0m \u001b[43m    \u001b[49m\u001b[43mestimator\u001b[49m\u001b[38;5;241;43m=\u001b[39;49m\u001b[43mestimator\u001b[49m\u001b[43m,\u001b[49m\n\u001b[1;32m    213\u001b[0m \u001b[43m    \u001b[49m\u001b[43mgetter\u001b[49m\u001b[38;5;241;43m=\u001b[39;49m\u001b[38;5;28;43mself\u001b[39;49m\u001b[38;5;241;43m.\u001b[39;49m\u001b[43mimportance_getter\u001b[49m\u001b[43m,\u001b[49m\n\u001b[1;32m    214\u001b[0m \u001b[43m    \u001b[49m\u001b[43mtransform_func\u001b[49m\u001b[38;5;241;43m=\u001b[39;49m\u001b[38;5;124;43m\"\u001b[39;49m\u001b[38;5;124;43mnorm\u001b[39;49m\u001b[38;5;124;43m\"\u001b[39;49m\u001b[43m,\u001b[49m\n\u001b[1;32m    215\u001b[0m \u001b[43m    \u001b[49m\u001b[43mnorm_order\u001b[49m\u001b[38;5;241;43m=\u001b[39;49m\u001b[38;5;28;43mself\u001b[39;49m\u001b[38;5;241;43m.\u001b[39;49m\u001b[43mnorm_order\u001b[49m\u001b[43m,\u001b[49m\n\u001b[1;32m    216\u001b[0m \u001b[43m\u001b[49m\u001b[43m)\u001b[49m\n\u001b[1;32m    217\u001b[0m threshold \u001b[38;5;241m=\u001b[39m _calculate_threshold(estimator, scores, \u001b[38;5;28mself\u001b[39m\u001b[38;5;241m.\u001b[39mthreshold)\n\u001b[1;32m    218\u001b[0m \u001b[38;5;28;01mif\u001b[39;00m \u001b[38;5;28mself\u001b[39m\u001b[38;5;241m.\u001b[39mmax_features \u001b[38;5;129;01mis\u001b[39;00m \u001b[38;5;129;01mnot\u001b[39;00m \u001b[38;5;28;01mNone\u001b[39;00m:\n",
      "File \u001b[0;32m~/.virtualenvs/py3-data/lib/python3.9/site-packages/sklearn/feature_selection/_base.py:204\u001b[0m, in \u001b[0;36m_get_feature_importances\u001b[0;34m(estimator, getter, transform_func, norm_order)\u001b[0m\n\u001b[1;32m    202\u001b[0m         getter \u001b[38;5;241m=\u001b[39m attrgetter(\u001b[38;5;124m\"\u001b[39m\u001b[38;5;124mfeature_importances_\u001b[39m\u001b[38;5;124m\"\u001b[39m)\n\u001b[1;32m    203\u001b[0m     \u001b[38;5;28;01melse\u001b[39;00m:\n\u001b[0;32m--> 204\u001b[0m         \u001b[38;5;28;01mraise\u001b[39;00m \u001b[38;5;167;01mValueError\u001b[39;00m(\n\u001b[1;32m    205\u001b[0m             \u001b[38;5;124m\"\u001b[39m\u001b[38;5;124mwhen `importance_getter==\u001b[39m\u001b[38;5;124m'\u001b[39m\u001b[38;5;124mauto\u001b[39m\u001b[38;5;124m'\u001b[39m\u001b[38;5;124m`, the underlying \u001b[39m\u001b[38;5;124m\"\u001b[39m\n\u001b[1;32m    206\u001b[0m             \u001b[38;5;124mf\u001b[39m\u001b[38;5;124m\"\u001b[39m\u001b[38;5;124mestimator \u001b[39m\u001b[38;5;132;01m{\u001b[39;00mestimator\u001b[38;5;241m.\u001b[39m\u001b[38;5;18m__class__\u001b[39m\u001b[38;5;241m.\u001b[39m\u001b[38;5;18m__name__\u001b[39m\u001b[38;5;132;01m}\u001b[39;00m\u001b[38;5;124m should have \u001b[39m\u001b[38;5;124m\"\u001b[39m\n\u001b[1;32m    207\u001b[0m             \u001b[38;5;124m\"\u001b[39m\u001b[38;5;124m`coef_` or `feature_importances_` attribute. Either \u001b[39m\u001b[38;5;124m\"\u001b[39m\n\u001b[1;32m    208\u001b[0m             \u001b[38;5;124m\"\u001b[39m\u001b[38;5;124mpass a fitted estimator to feature selector or call fit \u001b[39m\u001b[38;5;124m\"\u001b[39m\n\u001b[1;32m    209\u001b[0m             \u001b[38;5;124m\"\u001b[39m\u001b[38;5;124mbefore calling transform.\u001b[39m\u001b[38;5;124m\"\u001b[39m\n\u001b[1;32m    210\u001b[0m         )\n\u001b[1;32m    211\u001b[0m \u001b[38;5;28;01melse\u001b[39;00m:\n\u001b[1;32m    212\u001b[0m     getter \u001b[38;5;241m=\u001b[39m attrgetter(getter)\n",
      "\u001b[0;31mValueError\u001b[0m: when `importance_getter=='auto'`, the underlying estimator SVC should have `coef_` or `feature_importances_` attribute. Either pass a fitted estimator to feature selector or call fit before calling transform."
     ]
    }
   ],
   "source": [
    "feature_names = np.array(X.columns)\n",
    "# plt.bar(height=importance, x=feature_names)\n",
    "# plt.title(\"Feature importances via coefficients\")\n",
    "# plt.show()\n",
    "\n",
    "\n",
    "scaler = StandardScaler().fit(X)\n",
    "\n",
    "_svc = SVC().fit(scaler.transform(X), y)\n",
    "\n",
    "sfm = SelectFromModel(_svc, threshold=-np.inf, max_features=20).fit(scaler.transform(X), y)\n",
    "#.fit(scaler.transform(X), y)\n",
    "\n",
    "\n",
    "#print(f\"Features selected by SelectFromModel: {feature_names[sfm.get_support()]}\")\n",
    "\n",
    "print(f\" selected: {feature_names[sfm.get_support()]}\")\n",
    "print(f\" out of {feature_names}\")"
   ]
  },
  {
   "cell_type": "code",
   "execution_count": 102,
   "metadata": {},
   "outputs": [
    {
     "name": "stdout",
     "output_type": "stream",
     "text": [
      " selected: ['Partial Coverage' 'Quality_of_Life_Percentile'\n",
      " 'Physical_Environment_Percentile' 'ALAND_SQMI' 'REPUB_PARTISAN'\n",
      " '% Insufficient Sleep' 'Firearm Fatalities Rate' '% Hispanic'\n",
      " '% Diabetic' 'EP_NOHSDP' 'EP_AGE65' 'EP_DISABL' 'EP_MOBILE' 'EP_NOVEH'\n",
      " '% Physically Inactive' '% Alcohol-Impaired' 'MHP Rate' '% Some College'\n",
      " '% Children in Poverty' 'Income Ratio']\n"
     ]
    }
   ],
   "source": [
    "\n",
    "\n",
    "\n",
    "sfm = SelectFromModel(RandomForestClassifier(), threshold=-np.inf, max_features=20).fit(scaler.transform(X), y)\n",
    "\n",
    "print(f\" selected: {feature_names[sfm.get_support()]}\")\n"
   ]
  }
 ],
 "metadata": {
  "interpreter": {
   "hash": "3e5e67dba9ec50688b51d210d69127116c7da1f67ec0df7da4b6c1a14dc73fba"
  },
  "kernelspec": {
   "display_name": "Python 3.9.10 ('py3-data')",
   "language": "python",
   "name": "python3"
  },
  "language_info": {
   "codemirror_mode": {
    "name": "ipython",
    "version": 3
   },
   "file_extension": ".py",
   "mimetype": "text/x-python",
   "name": "python",
   "nbconvert_exporter": "python",
   "pygments_lexer": "ipython3",
   "version": "3.9.10"
  },
  "orig_nbformat": 4
 },
 "nbformat": 4,
 "nbformat_minor": 2
}
