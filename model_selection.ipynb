{
 "cells": [
  {
   "cell_type": "markdown",
   "metadata": {},
   "source": [
    "I want to figure out which machine learning model will best predict counties with high COVID fatality rates. I will train separate models for year one and year two. Hopefully the same model performs well on both years.\n",
    "\n",
    "First, let's get all the data:"
   ]
  },
  {
   "cell_type": "code",
   "execution_count": 1,
   "metadata": {},
   "outputs": [],
   "source": [
    "import sys\n",
    "import matplotlib.pyplot as plt\n",
    "import numpy as np\n",
    "from sklearn.linear_model import RidgeClassifierCV\n",
    "from sklearn.feature_selection import SelectFromModel\n",
    "from sklearn.ensemble import RandomForestClassifier, AdaBoostClassifier\n",
    "from sklearn.svm import SVC\n",
    "import pandas as pd\n",
    "from sklearn.metrics import roc_auc_score\n",
    "\n",
    "class config:\n",
    "    USE_CACHE = True\n",
    "    CACHE_DIR = \"/Users/caseydurfee/msds/data_mining_final_project/cache\"\n",
    "\n",
    "from COVID_data import all_data\n",
    "data = all_data.get_all_data(config)"
   ]
  },
  {
   "cell_type": "markdown",
   "metadata": {},
   "source": [
    "Now, we'll get training data for year 1, with a min population of 50,000."
   ]
  },
  {
   "cell_type": "code",
   "execution_count": 2,
   "metadata": {},
   "outputs": [
    {
     "name": "stdout",
     "output_type": "stream",
     "text": [
      "dropping ['DEATHS_FIRST_YEAR', 'DEATHS', 'DEATHS_SECOND_YEAR', 'DEATHS_ALPHA', 'DEATHS_DELTA', 'DEATHS_OMICRON', 'DEATH_RATE', 'DEATH_RATE_FIRST_YEAR', 'DEATH_RATE_SECOND_YEAR', 'DEATH_RATE_ALPHA', 'DEATH_RATE_DELTA', 'DEATH_RATE_OMICRON']\n",
      ">>>> mean scores for year 1\n",
      "<class 'sklearn.linear_model._logistic.LogisticRegression'>       0.634213\n",
      "<class 'sklearn.ensemble._weight_boosting.AdaBoostClassifier'>    0.644440\n",
      "<class 'sklearn.linear_model._least_angle.LassoLarsCV'>           0.740688\n",
      "dtype: float64\n",
      "dropping ['DEATHS_FIRST_YEAR', 'DEATHS', 'DEATHS_SECOND_YEAR', 'DEATHS_ALPHA', 'DEATHS_DELTA', 'DEATHS_OMICRON', 'DEATH_RATE', 'DEATH_RATE_FIRST_YEAR', 'DEATH_RATE_SECOND_YEAR', 'DEATH_RATE_ALPHA', 'DEATH_RATE_DELTA', 'DEATH_RATE_OMICRON']\n",
      ">>>> mean scores for year 2\n",
      "<class 'sklearn.linear_model._logistic.LogisticRegression'>       0.723694\n",
      "<class 'sklearn.ensemble._weight_boosting.AdaBoostClassifier'>    0.696235\n",
      "<class 'sklearn.linear_model._least_angle.LassoLarsCV'>           0.865199\n",
      "dtype: float64\n",
      "         MEDIAN_FAMILY  POPULATION  Partial Coverage  Booster Coverage  \\\n",
      "FIPS                                                                     \n",
      "1001.0           66349       54907         54.846158         13.685586   \n",
      "1003.0           60864      187114         63.572305         17.013537   \n",
      "1009.0           52996       57623         37.934493          9.998962   \n",
      "1015.0           50851      117714         56.645394         15.914792   \n",
      "1031.0           58898       50468         58.058538         12.263574   \n",
      "...                ...         ...               ...               ...   \n",
      "55135.0          61581       52300         56.771916         30.268680   \n",
      "55139.0          66466      167860         65.577900         34.137062   \n",
      "55141.0          60258       74469         66.684475         32.978534   \n",
      "56021.0          71483       93073         63.544724         19.926633   \n",
      "56025.0          69098       77343         51.074407         19.723760   \n",
      "\n",
      "         Complete Coverage  HEALTH_OUTCOMES_PERCENTILE  \\\n",
      "FIPS                                                     \n",
      "1001.0           43.328143                    0.895522   \n",
      "1003.0           50.058683                    0.970149   \n",
      "1009.0           31.250648                    0.671642   \n",
      "1015.0           46.237402                    0.432836   \n",
      "1031.0           46.599289                    0.910448   \n",
      "...                    ...                         ...   \n",
      "55135.0          53.802706                    0.305556   \n",
      "55139.0          60.475141                    0.680556   \n",
      "55141.0          60.921382                    0.375000   \n",
      "56021.0          55.339698                    0.260870   \n",
      "56025.0          45.673571                    0.173913   \n",
      "\n",
      "         HEALTH_FACTORS_PERCENTILE  Length_of_Life_Percentile  \\\n",
      "FIPS                                                            \n",
      "1001.0                    0.835821                   0.880597   \n",
      "1003.0                    0.955224                   0.955224   \n",
      "1009.0                    0.761194                   0.462687   \n",
      "1015.0                    0.537313                   0.179104   \n",
      "1031.0                    0.895522                   0.925373   \n",
      "...                            ...                        ...   \n",
      "55135.0                   0.472222                   0.263889   \n",
      "55139.0                   0.583333                   0.694444   \n",
      "55141.0                   0.750000                   0.347222   \n",
      "56021.0                   0.391304                   0.347826   \n",
      "56025.0                   0.173913                   0.260870   \n",
      "\n",
      "         Quality_of_Life_Percentile  Health_Behaviors_Percentile  ...  \\\n",
      "FIPS                                                              ...   \n",
      "1001.0                     0.925373                     0.776119  ...   \n",
      "1003.0                     0.940299                     0.955224  ...   \n",
      "1009.0                     0.791045                     0.850746  ...   \n",
      "1015.0                     0.850746                     0.582090  ...   \n",
      "1031.0                     0.820896                     0.865672  ...   \n",
      "...                             ...                          ...  ...   \n",
      "55135.0                    0.402778                     0.305556  ...   \n",
      "55139.0                    0.541667                     0.152778  ...   \n",
      "55141.0                    0.513889                     0.527778  ...   \n",
      "56021.0                    0.217391                     0.043478  ...   \n",
      "56025.0                    0.086957                     0.130435  ...   \n",
      "\n",
      "         % Vaccinated  % Some College  % Unemployed  % Children in Poverty  \\\n",
      "FIPS                                                                         \n",
      "1001.0           41.0       60.854665      3.863522                   19.3   \n",
      "1003.0           45.0       66.133926      3.988336                   14.7   \n",
      "1009.0           38.0       54.413998      4.021393                   18.5   \n",
      "1015.0           38.0       57.522216      4.933965                   24.2   \n",
      "1031.0           41.0       60.494204      4.387790                   24.8   \n",
      "...               ...             ...           ...                    ...   \n",
      "55135.0          50.0       56.241706      3.204192                   16.1   \n",
      "55139.0          55.0       67.361911      2.978439                   12.7   \n",
      "55141.0          51.0       66.362635      3.760655                   13.9   \n",
      "56021.0          42.0       70.992131      3.693783                   11.6   \n",
      "56025.0          42.0       65.235561      5.312239                   13.3   \n",
      "\n",
      "         Income Ratio  % Single-Parent Households  Violent Crime Rate  \\\n",
      "FIPS                                                                    \n",
      "1001.0       4.636664                   24.700097          272.282220   \n",
      "1003.0       4.518560                   25.184091          203.660396   \n",
      "1009.0       4.126883                   29.569733          482.690611   \n",
      "1015.0       4.983814                   39.297772          756.066544   \n",
      "1031.0       4.783429                   36.810780          276.208044   \n",
      "...               ...                         ...                 ...   \n",
      "55135.0      3.921322                   28.157994          187.444127   \n",
      "55139.0      4.110059                   31.300825          168.536847   \n",
      "55141.0      4.105329                   30.137769           32.693984   \n",
      "56021.0      3.960691                   31.013393          206.189829   \n",
      "56025.0      3.931380                   33.314027          193.532731   \n",
      "\n",
      "         Injury Death Rate  % Severe Housing Problems     DENSITY  \n",
      "FIPS                                                               \n",
      "1001.0           74.031808                  14.954646   92.365120  \n",
      "1003.0           69.374289                  13.831725  117.693901  \n",
      "1009.0          105.197227                  10.401153   89.353084  \n",
      "1015.0           82.062149                  14.538811  194.283111  \n",
      "1031.0           59.728761                  12.212944   74.328484  \n",
      "...                    ...                        ...         ...  \n",
      "55135.0          86.854478                  10.845332   69.948308  \n",
      "55139.0          70.090871                  12.996809  386.154034  \n",
      "55141.0          78.696203                  11.193442   93.903445  \n",
      "56021.0          76.165852                  10.953211   34.652909  \n",
      "56025.0         100.651025                  10.613134   14.482249  \n",
      "\n",
      "[932 rows x 80 columns]\n"
     ]
    }
   ],
   "source": [
    "from COVID_data import prepare_model_data\n",
    "\n",
    "from sklearn.linear_model import LogisticRegression, LassoLarsCV\n",
    "from sklearn.ensemble import BaggingClassifier, GradientBoostingClassifier\n",
    "from sklearn.svm import LinearSVC\n",
    "from sklearn.metrics import make_scorer\n",
    "from sklearn.model_selection import cross_val_score\n",
    "import pprint\n",
    "\n",
    "test_models = [ #RandomForestClassifier(), \n",
    "                #SVC(), \n",
    "                LogisticRegression(max_iter=10000), \n",
    "                #RidgeClassifierCV(), \n",
    "                AdaBoostClassifier(), \n",
    "                #BaggingClassifier(),\n",
    "                #GradientBoostingClassifier(),\n",
    "                #LinearSVC(max_iter=10000),\n",
    "                LassoLarsCV(normalize=False)\n",
    "            ]\n",
    "\n",
    "roc_auc_scorer = make_scorer(roc_auc_score)\n",
    "\n",
    "ITERS = 1\n",
    "\n",
    "for year in [1,2]:\n",
    "    df, X, y = prepare_model_data.make_train_test(data, year=year, split=False)\n",
    "\n",
    "    roc_scores = {}\n",
    "    max_roc = 0.0\n",
    "    best_model = None\n",
    "    for throwaway in range(ITERS):\n",
    "        for model in test_models:\n",
    "            model_name = repr(model.__class__)\n",
    "\n",
    "            model = model.fit(X, y) # shouldnt' need this for cross-val\n",
    "\n",
    "            mean_score = cross_val_score(model, X, y, scoring=roc_auc_scorer).mean()\n",
    "\n",
    "            if model_name not in roc_scores:\n",
    "                roc_scores[model_name] = 0.0\n",
    "            roc_scores[model_name] += mean_score\n",
    "            if mean_score > max_roc:\n",
    "                best_model = model\n",
    "                max_roc = mean_score\n",
    "\n",
    "    sz = pd.Series(roc_scores)\n",
    "    print(f\">>>> mean scores for year {year}\")\n",
    "    print(sz / ITERS)\n"
   ]
  },
  {
   "cell_type": "markdown",
   "metadata": {},
   "source": [
    "Looks like SVC is our big winner."
   ]
  },
  {
   "cell_type": "code",
   "execution_count": 14,
   "metadata": {},
   "outputs": [
    {
     "ename": "AttributeError",
     "evalue": "'LassoLarsCV' object has no attribute 'feature_importances_'",
     "output_type": "error",
     "traceback": [
      "\u001b[0;31m---------------------------------------------------------------------------\u001b[0m",
      "\u001b[0;31mAttributeError\u001b[0m                            Traceback (most recent call last)",
      "Input \u001b[0;32mIn [14]\u001b[0m, in \u001b[0;36m<module>\u001b[0;34m\u001b[0m\n\u001b[0;32m----> 1\u001b[0m \u001b[43mbest_model\u001b[49m\u001b[38;5;241;43m.\u001b[39;49m\u001b[43mfeature_importances_\u001b[49m\n",
      "\u001b[0;31mAttributeError\u001b[0m: 'LassoLarsCV' object has no attribute 'feature_importances_'"
     ]
    }
   ],
   "source": [
    "best_model.feature_importances_"
   ]
  },
  {
   "cell_type": "markdown",
   "metadata": {},
   "source": [
    "now, let's use permutation importance to figure out what really matters."
   ]
  },
  {
   "cell_type": "code",
   "execution_count": 4,
   "metadata": {},
   "outputs": [],
   "source": [
    "from sklearn.inspection import permutation_importance\n",
    "\n",
    "result = permutation_importance(best_model, X, y, \n",
    "            n_repeats=100)\n",
    "\n",
    "forest_importances = pd.Series(result.importances_mean, index=df.columns)"
   ]
  },
  {
   "cell_type": "code",
   "execution_count": 7,
   "metadata": {},
   "outputs": [
    {
     "name": "stdout",
     "output_type": "stream",
     "text": [
      "Length_of_Life_Percentile            0.000049\n",
      "% Excessive Drinking                 0.000053\n",
      "Years of Potential Life Lost Rate    0.000176\n",
      "Segregation index                    0.000197\n",
      "Firearm Fatalities Rate              0.000426\n",
      "% Alcohol-Impaired                   0.000541\n",
      "% Insufficient Sleep                 0.000577\n",
      "EP_MUNIT                             0.000632\n",
      "% Screened                           0.000714\n",
      "% Physically Inactive                0.000842\n",
      "% Smokers                            0.000924\n",
      "Preventable Hosp. Rate               0.001361\n",
      "% African American                   0.001402\n",
      "Physically Unhealthy Days            0.001936\n",
      "MV Mortality Rate                    0.002125\n",
      "% Rural                              0.002177\n",
      "% Asian                              0.002640\n",
      "Complete Coverage                    0.003717\n",
      "% Female                             0.004294\n",
      "% Vaccinated                         0.004663\n",
      "Injury Death Rate                    0.008990\n",
      "Age-Adjusted Mortality               0.010441\n",
      "Partial Coverage                     0.012024\n",
      "EP_AGE65                             0.021375\n",
      "EP_UNINSUR                           0.025126\n",
      "Teen Birth Rate                      0.034612\n",
      "EP_SNGPNT                            0.036585\n",
      "EP_DISABL                            0.039832\n",
      "REPUB_PARTISAN                       0.073094\n",
      "dtype: float64\n"
     ]
    }
   ],
   "source": [
    "disp = forest_importances.reindex(forest_importances.abs().sort_values().index)\n",
    "\n",
    "print(disp[disp > 0])"
   ]
  },
  {
   "cell_type": "markdown",
   "metadata": {},
   "source": [
    "it seems suspicious that the best model is the only one that tunes itself. Let's try grid search on SVC and see if we can up the success."
   ]
  },
  {
   "cell_type": "code",
   "execution_count": null,
   "metadata": {},
   "outputs": [],
   "source": [
    "from sklearn.model_selection import cross_val_score, GridSearchCV\n",
    "\n",
    "parameters = {\n",
    "    'C': [2**x for x in range(3, 13)],\n",
    "    'gamma': [2**x for x in range(-15,-5)]\n",
    "}\n",
    "\n",
    "\n",
    "\n",
    "grid = GridSearchCV(SVC(), parameters).fit(x_train, y_train)"
   ]
  },
  {
   "cell_type": "code",
   "execution_count": null,
   "metadata": {},
   "outputs": [],
   "source": [
    "\n",
    "scores = [x for x in grid.cv_results_[\"mean_test_score\"]]\n",
    "scores = np.array(scores).reshape(len(grid.param_grid[\"C\"]), len(grid.param_grid[\"gamma\"]))\n",
    "\n",
    "print(scores)"
   ]
  },
  {
   "cell_type": "code",
   "execution_count": null,
   "metadata": {},
   "outputs": [],
   "source": [
    "final_model = SVC(C=2**9, gamma=2**-11).fit(x_train, y_train)\n"
   ]
  }
 ],
 "metadata": {
  "interpreter": {
   "hash": "3e5e67dba9ec50688b51d210d69127116c7da1f67ec0df7da4b6c1a14dc73fba"
  },
  "kernelspec": {
   "display_name": "Python 3.9.10 ('py3-data')",
   "language": "python",
   "name": "python3"
  },
  "language_info": {
   "codemirror_mode": {
    "name": "ipython",
    "version": 3
   },
   "file_extension": ".py",
   "mimetype": "text/x-python",
   "name": "python",
   "nbconvert_exporter": "python",
   "pygments_lexer": "ipython3",
   "version": "3.9.10"
  },
  "orig_nbformat": 4
 },
 "nbformat": 4,
 "nbformat_minor": 2
}
