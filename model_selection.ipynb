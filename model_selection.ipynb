{
 "cells": [
  {
   "cell_type": "markdown",
   "metadata": {},
   "source": [
    "The big picture idea here is that I want to build a machine learning model that can predict when a county will have a high (>75th percentile) rate of COVID fatalities.  I have a wide range of data from countyhealthrankings.org (from 2019), the Social Vulnerability Index (2018) that I will use to predict.\n",
    "\n",
    "Then I will pull out the most important factors of that model. We have a lot of data that is moderately correlated with COVID fatality rates and often highly correlated with each other. So the machine learning model will help tease out what is really important within the raw data, in a way that minimizes my own biases.\n",
    "\n",
    "First, a bunch of imports:"
   ]
  },
  {
   "cell_type": "code",
   "execution_count": 2,
   "metadata": {},
   "outputs": [],
   "source": [
    "import sys\n",
    "import matplotlib.pyplot as plt\n",
    "import numpy as np\n",
    "from sklearn.linear_model import RidgeClassifierCV, Lasso, LogisticRegressionCV, LassoLarsCV, ElasticNetCV\n",
    "from sklearn.feature_selection import SelectFromModel\n",
    "from sklearn.ensemble import RandomForestClassifier, AdaBoostClassifier, BaggingClassifier, GradientBoostingClassifier\n",
    "from sklearn.svm import SVC, LinearSVC\n",
    "import pandas as pd\n",
    "from sklearn.metrics import roc_auc_score\n",
    "from COVID_data import prepare_model_data\n",
    "\n",
    "from sklearn.metrics import make_scorer\n",
    "from sklearn.model_selection import cross_val_score\n",
    "import pprint\n",
    "from sklearn.utils._testing import ignore_warnings\n",
    "from sklearn.exceptions import ConvergenceWarning\n",
    "\n",
    "from prettytable import PrettyTable\n",
    "\n",
    "\n",
    "class config:\n",
    "    USE_CACHE = True\n",
    "    CACHE_DIR = \"/Users/caseydurfee/msds/data_mining_final_project/cache\"\n",
    "\n",
    "from COVID_data import all_data\n",
    "data = all_data.get_all_data(config)"
   ]
  },
  {
   "cell_type": "markdown",
   "metadata": {},
   "source": [
    "Let's look at correlations in year 1 of the pandemic versus year 2 and see if there were changes.  Note that we are looking at all factors, including ones with large rates of missing data, which will artificially inflate those correlation scores. Some of these factors won't be used by the model, because I am throwing out any fields where more than 5% of counties have missing data.\n",
    "\n",
    "Here are the top 10 factors for each year, filtering out correlations with other death rates."
   ]
  },
  {
   "cell_type": "code",
   "execution_count": 3,
   "metadata": {},
   "outputs": [
    {
     "name": "stdout",
     "output_type": "stream",
     "text": [
      "Year One\n",
      "+-----------------------------------------+----------------+\n",
      "|                  Factor                 | r^2 (year one) |\n",
      "+-----------------------------------------+----------------+\n",
      "| Age-Adjusted Mortality (Hispanic) (CHR) |     0.376      |\n",
      "|          Teen Birth Rate (CHR)          |     0.351      |\n",
      "|        % Disconnected Youth (CHR)       |     0.338      |\n",
      "|         MV Mortality Rate (CHR)         |     0.337      |\n",
      "|          % No HS Diploma (SVI)          |     0.321      |\n",
      "|           Homicide Rate (CHR)           |      0.32      |\n",
      "| Years of Potential Life Lost Rate (CHR) |     0.311      |\n",
      "|        Child Mortality Rate (CHR)       |     0.305      |\n",
      "|       Age-Adjusted Mortality (CHR)      |     0.304      |\n",
      "|       % Physically Inactive (CHR)       |     0.299      |\n",
      "+-----------------------------------------+----------------+\n",
      "+-----------------------------------------+----------------+\n",
      "|                  Factor                 | r^2 (year two) |\n",
      "+-----------------------------------------+----------------+\n",
      "|       Age-Adjusted Mortality (CHR)      |     0.495      |\n",
      "|          Life Expectancy (CHR)          |     -0.49      |\n",
      "|             % Disabled (SVI)            |     0.482      |\n",
      "| Years of Potential Life Lost Rate (CHR) |     0.467      |\n",
      "|        Median Family (Wikipedia)        |     -0.457     |\n",
      "|     Physically Unhealthy Days (CHR)     |     0.453      |\n",
      "|          Teen Birth Rate (CHR)          |      0.45      |\n",
      "|           % Some College (CHR)          |     -0.443     |\n",
      "|         COVID Complete Coverage         |     -0.44      |\n",
      "|       Median Household (Wikipedia)      |     -0.434     |\n",
      "|          COVID Booster Coverage         |     -0.434     |\n",
      "|             % Diabetic (CHR)            |     0.433      |\n",
      "|    % Frequent Physical Distress (CHR)   |     0.432      |\n",
      "|     % Frequent Mental Distress (CHR)    |     0.431      |\n",
      "|      Firearm Fatalities Rate (CHR)      |     0.428      |\n",
      "|         Per Capita Income (SVI)         |     -0.424     |\n",
      "|          COVID Partial Coverage         |     -0.42      |\n",
      "|          2016 Repub Vote Share          |     0.419      |\n",
      "|      Mentally Unhealthy Days (CHR)      |     0.419      |\n",
      "|          Per Capita (Wikipedia)         |     -0.417     |\n",
      "|        % Excessive Drinking (CHR)       |     -0.415     |\n",
      "|       % Physically Inactive (CHR)       |     0.404      |\n",
      "| Age-Adjusted Mortality (Hispanic) (CHR) |     0.398      |\n",
      "|       % Children in Poverty (CHR)       |     0.396      |\n",
      "|           % Mobile Homes (SVI)          |     0.393      |\n",
      "+-----------------------------------------+----------------+\n"
     ]
    }
   ],
   "source": [
    "print(\"Year One\")\n",
    "death_rate_corr = data.corr()['DEATH_RATE_FIRST_YEAR']\n",
    "\n",
    "# omicron, alpha, delta, etc. death rates are not interesting here\n",
    "death_cols = list(data.filter(regex = 'DEATH'))\n",
    "\n",
    "y1_corr = death_rate_corr.reindex(death_rate_corr.abs().sort_values(ascending=False).index) \\\n",
    "    .drop(death_cols)\n",
    "\n",
    "\n",
    "pt = PrettyTable()\n",
    "pt.field_names = ['Factor', 'r^2 (year one)']    \n",
    "\n",
    "for x in y1_corr[:10].index:\n",
    "    pt.add_row([x, round(y1_corr[x], 3)])\n",
    "\n",
    "print(pt)\n",
    "\n",
    "death_rate_corr = data.corr()['DEATH_RATE_SECOND_YEAR']\n",
    "\n",
    "death_cols = list(data.filter(regex = 'DEATH'))\n",
    "\n",
    "y2_corr = death_rate_corr.reindex(death_rate_corr.abs().sort_values(ascending=False).index) \\\n",
    "    .drop(death_cols)\n",
    "pt = PrettyTable()\n",
    "pt.field_names = ['Factor', 'r^2 (year two)']    \n",
    "for x in y2_corr[:25].index:\n",
    "    pt.add_row([x, round(y2_corr[x], 3)])\n",
    "\n",
    "print(pt)\n"
   ]
  },
  {
   "cell_type": "markdown",
   "metadata": {},
   "source": [
    "Let's take the top 10 correlations from year 1 and year 2 and see how they've changed."
   ]
  },
  {
   "cell_type": "code",
   "execution_count": 38,
   "metadata": {},
   "outputs": [
    {
     "name": "stdout",
     "output_type": "stream",
     "text": [
      "+-----------------------------------------+------------+------------+\n",
      "|                   Name                  | Year 1 r^2 | Year 2 r^2 |\n",
      "+-----------------------------------------+------------+------------+\n",
      "|          Teen Birth Rate (CHR)          |   0.351    |    0.45    |\n",
      "|       Age-Adjusted Mortality (CHR)      |   0.304    |   0.495    |\n",
      "| Years of Potential Life Lost Rate (CHR) |   0.311    |   0.467    |\n",
      "|          Life Expectancy (CHR)          |   -0.285   |   -0.49    |\n",
      "| Age-Adjusted Mortality (Hispanic) (CHR) |   0.376    |   0.398    |\n",
      "|        Median Family (Wikipedia)        |   -0.285   |   -0.457   |\n",
      "|         MV Mortality Rate (CHR)         |   0.337    |   0.385    |\n",
      "|       Median Household (Wikipedia)      |   -0.278   |   -0.434   |\n",
      "|        % Disconnected Youth (CHR)       |   0.338    |   0.367    |\n",
      "|       % Physically Inactive (CHR)       |   0.299    |   0.404    |\n",
      "|           % Some College (CHR)          |   -0.256   |   -0.443   |\n",
      "|       % Children in Poverty (CHR)       |   0.293    |   0.396    |\n",
      "|          Per Capita (Wikipedia)         |   -0.272   |   -0.417   |\n",
      "|         Per Capita Income (SVI)         |   -0.265   |   -0.424   |\n",
      "|          COVID Booster Coverage         |   -0.254   |   -0.434   |\n",
      "|             % Diabetic (CHR)            |   0.241    |   0.433    |\n",
      "|            % Fair/Poor (CHR)            |   0.272    |   0.365    |\n",
      "|          % No HS Diploma (SVI)          |   0.321    |   0.312    |\n",
      "|       Infant Mortality Rate (CHR)       |   0.285    |   0.343    |\n",
      "|        Child Mortality Rate (CHR)       |   0.305    |   0.314    |\n",
      "|         COVID Complete Coverage         |   -0.174   |   -0.44    |\n",
      "|    % Frequent Physical Distress (CHR)   |   0.173    |   0.432    |\n",
      "|            % Uninsured (CHR)            |   0.292    |   0.281    |\n",
      "|             % Disabled (SVI)            |    0.09    |   0.482    |\n",
      "|     Physically Unhealthy Days (CHR)     |   0.114    |   0.453    |\n",
      "|          COVID Partial Coverage         |   -0.146   |   -0.42    |\n",
      "|          2016 Repub Vote Share          |   0.137    |   0.419    |\n",
      "|     % Frequent Mental Distress (CHR)    |    0.11    |   0.431    |\n",
      "|      Firearm Fatalities Rate (CHR)      |   0.104    |   0.428    |\n",
      "|            % Uninsured (SVI)            |   0.263    |   0.254    |\n",
      "|           Homicide Rate (CHR)           |    0.32    |   0.175    |\n",
      "|      Mentally Unhealthy Days (CHR)      |   0.015    |   0.419    |\n",
      "+-----------------------------------------+------------+------------+\n"
     ]
    }
   ],
   "source": [
    "top_cols_in_either = y1_corr[:20].index.union(y2_corr[:20].index)\n",
    "\n",
    "pt = PrettyTable()\n",
    "pt.field_names = ['Name', 'Year 1 r^2', 'Year 2 r^2']\n",
    "\n",
    "rows = []\n",
    "for c in top_cols_in_either:\n",
    "    row = [c, round(y1_corr[c], 3), round(y2_corr[c], 3)]\n",
    "    # pt.add_row(row)\n",
    "    rows.append(row)\n",
    "\n",
    "sorted_rows = sorted(rows, key=lambda x: abs(x[1]) + abs(x[2]), reverse=True)\n",
    "\n",
    "for x in sorted_rows:\n",
    "    pt.add_row(x)\n",
    "\n",
    "print(pt)"
   ]
  },
  {
   "cell_type": "markdown",
   "metadata": {},
   "source": [
    "Some things to note here:\n",
    "* there are some metrics that are extremely similar (Years of Potential Life Lost Rate and Age-Adjusted Mortality are basically inverses of Life Expectancy). That's to be expected since they're generated in slightly different ways, and we're going to let the model decide which one is the best for predicting high COVID fatality rates.\n",
    "\n",
    "* vaccination rates don't correlate strongly with year one fatality rate, which makes sense, given time only flows in one direction. They do show up as a major factor in year two, as expected.\n",
    "\n",
    "* The top correlations in year 2 are all much stronger than year 1. This implies year 2 death rates were more predictable based on data we had before the pandemic (and hence the deaths were more preventable)."
   ]
  },
  {
   "cell_type": "markdown",
   "metadata": {},
   "source": [
    "Let's look at how the top factors correlate with each other. Are they all just saying the same thing? For each factor, we will print out the max correlation with it."
   ]
  },
  {
   "cell_type": "code",
   "execution_count": 39,
   "metadata": {},
   "outputs": [
    {
     "name": "stdout",
     "output_type": "stream",
     "text": [
      "+-------------------------+-------------------------+-------+\n",
      "|          Column         | Highest Correlated With |  r^2  |\n",
      "+-------------------------+-------------------------+-------+\n",
      "|   % Physically Inactiv  |     % Diabetic (CHR)    | 0.758 |\n",
      "|   % Children in Povert  |    % Fair/Poor (CHR)    | 0.837 |\n",
      "|   % No HS Diploma (SVI  |    % Fair/Poor (CHR)    | 0.779 |\n",
      "|   Teen Birth Rate (CHR  |    % Fair/Poor (CHR)    | 0.749 |\n",
      "|   Mentally Unhealthy D  |   % Frequent Mental Di  | 0.953 |\n",
      "|   Physically Unhealthy  |   % Frequent Physical   | 0.982 |\n",
      "|   % Frequent Mental Di  |   % Frequent Physical   | 0.954 |\n",
      "|    % Fair/Poor (CHR)    |   % Frequent Physical   | 0.928 |\n",
      "|     % Diabetic (CHR)    |   % Physically Inactiv  | 0.758 |\n",
      "|   2016 Repub Vote Shar  |   % Physically Inactiv  | 0.398 |\n",
      "|    % Uninsured (SVI)    |    % Uninsured (CHR)    | 0.865 |\n",
      "|    % Uninsured (CHR)    |    % Uninsured (SVI)    | 0.865 |\n",
      "|        YPLL (CHR)       |   Age-Adjusted Mortali  |  0.96 |\n",
      "|   COVID Partial Covera  |   COVID Complete Cover  |  0.97 |\n",
      "|   COVID Booster Covera  |   COVID Complete Cover  | 0.851 |\n",
      "|   COVID Complete Cover  |   COVID Partial Covera  |  0.97 |\n",
      "|   Infant Mortality Rat  |   Child Mortality Rate  | 0.849 |\n",
      "|   Homicide Rate (CHR)   |   Firearm Fatalities R  |  0.73 |\n",
      "|   Firearm Fatalities R  |   Homicide Rate (CHR)   |  0.73 |\n",
      "|   Child Mortality Rate  |   Infant Mortality Rat  | 0.849 |\n",
      "|   Median Household (Wi  |   Median Family (Wikip  | 0.962 |\n",
      "|   Median Family (Wikip  |   Median Household (Wi  | 0.962 |\n",
      "|   Per Capita Income (S  |   Per Capita (Wikipedi  | 0.948 |\n",
      "|   Per Capita (Wikipedi  |   Per Capita Income (S  | 0.948 |\n",
      "|   % Some College (CHR)  |   Per Capita Income (S  | 0.703 |\n",
      "|   Life Expectancy (CHR  |   Per Capita Income (S  | 0.641 |\n",
      "|   % Frequent Physical   |   Physically Unhealthy  | 0.982 |\n",
      "|     % Disabled (SVI)    |   Physically Unhealthy  | 0.617 |\n",
      "|   % Disconnected Youth  |   Teen Birth Rate (CHR  | 0.592 |\n",
      "| Mortality (Hisp.) (CHR) |   Teen Birth Rate (CHR  | 0.497 |\n",
      "|   Age-Adjusted Mortali  |        YPLL (CHR)       |  0.96 |\n",
      "|   MV Mortality Rate (C  |        YPLL (CHR)       | 0.658 |\n",
      "+-------------------------+-------------------------+-------+\n"
     ]
    }
   ],
   "source": [
    "top_factors = top_cols_in_either\n",
    "\n",
    "corrs_with_eachother = data.corr().loc[top_factors, top_factors]\n",
    "\n",
    "pt = PrettyTable()\n",
    "pt.field_names = ['Column', 'Highest Correlated With', 'r^2']\n",
    "\n",
    "def shorten(col):\n",
    "    if col == \"Years of Potential Life Lost Rate (CHR)\":\n",
    "        return \"YPLL (CHR)\"\n",
    "    elif col == \"Age-Adjusted Mortality (Hispanic) (CHR)\":\n",
    "        return \"Mortality (Hisp.) (CHR)\"\n",
    "    else:\n",
    "        return col[:20]\n",
    "\n",
    "rows = []\n",
    "for col in corrs_with_eachother.columns:\n",
    "    other_cols = corrs_with_eachother[col].drop(col)\n",
    "    rows.append([shorten(col), shorten(other_cols.idxmax()), round(max(other_cols), 3)])\n",
    "\n",
    "\n",
    "sorted_rows = sorted(rows, key=lambda x: (x[1], 1-x[2]))\n",
    "\n",
    "for row in sorted_rows:\n",
    "    pt.add_row(row)\n",
    "\n",
    "print(pt)\n"
   ]
  },
  {
   "cell_type": "markdown",
   "metadata": {},
   "source": [
    "So, there's definitely some redundancy. But nothing is perfectly correlated with each other."
   ]
  },
  {
   "cell_type": "markdown",
   "metadata": {},
   "source": [
    "## Using ML to figure out what matters\n",
    "\n",
    "I am going to test a wide range of machine learning models and we'll go with whatever performs best.  I will be using ROC AUC as the scoring metric since we have unbalanced classes.\n",
    "\n",
    "I will drop all metrics that are missing more than 5% of their values. There are about 30 metrics that we don't have good coverage for. So the training data will be 2,919 rows (counties) by 70 columns (metrics). \n",
    "\n",
    "If we limit to counties over 50,000 people, we can an additional 10 or so metrics, and possibly lose some noise introduced by imputation done by the sources of the data. This smaller set contains 932 counties."
   ]
  },
  {
   "cell_type": "code",
   "execution_count": 6,
   "metadata": {},
   "outputs": [],
   "source": [
    "SEED = 2718\n",
    "\n",
    "classifier_models = [ \n",
    "    RandomForestClassifier(random_state=SEED),\n",
    "    SVC(random_state=SEED),\n",
    "    LogisticRegressionCV(random_state=SEED, max_iter=1000),\n",
    "    RidgeClassifierCV(),\n",
    "    AdaBoostClassifier(random_state=SEED),\n",
    "    BaggingClassifier(random_state=SEED),\n",
    "    GradientBoostingClassifier(random_state=SEED),\n",
    "    LinearSVC(random_state=SEED),\n",
    "]\n",
    "\n",
    "from sklearn.linear_model import LassoCV, RidgeCV\n",
    "from sklearn.kernel_ridge import KernelRidge\n",
    "from sklearn.ensemble import AdaBoostRegressor, GradientBoostingRegressor, RandomForestRegressor\n",
    "\n",
    "regression_models = [\n",
    "    ElasticNetCV(random_state=SEED),\n",
    "    LassoLarsCV(normalize=False),\n",
    "    LassoCV(),\n",
    "    RidgeCV(),\n",
    "    AdaBoostRegressor(),\n",
    "    GradientBoostingRegressor()\n",
    "]\n",
    "roc_auc_scorer = make_scorer(roc_auc_score)"
   ]
  },
  {
   "cell_type": "markdown",
   "metadata": {},
   "source": [
    "Let's see how good of a model we can build on year 1 and year 2 data combined, then on the years separately."
   ]
  },
  {
   "cell_type": "code",
   "execution_count": 7,
   "metadata": {},
   "outputs": [
    {
     "name": "stdout",
     "output_type": "stream",
     "text": [
      "+----------------------------+--------+--------+-------+-------+\n",
      "|         Classifier         | Year 1 | Year 2 |  Both | Total |\n",
      "+----------------------------+--------+--------+-------+-------+\n",
      "|   RandomForestClassifier   | 0.636  |  0.74  | 0.725 | 2.101 |\n",
      "|            SVC             | 0.652  | 0.756  | 0.725 | 2.133 |\n",
      "|    LogisticRegressionCV    | 0.631  | 0.758  | 0.741 | 2.131 |\n",
      "|     RidgeClassifierCV      | 0.637  | 0.751  | 0.715 | 2.103 |\n",
      "|     AdaBoostClassifier     | 0.623  | 0.726  | 0.695 | 2.045 |\n",
      "|     BaggingClassifier      | 0.624  | 0.704  | 0.683 | 2.011 |\n",
      "| GradientBoostingClassifier | 0.648  | 0.734  | 0.723 | 2.105 |\n",
      "|         LinearSVC          | 0.633  | 0.757  | 0.719 | 2.109 |\n",
      "+----------------------------+--------+--------+-------+-------+\n"
     ]
    }
   ],
   "source": [
    "pt = PrettyTable()\n",
    "pt.field_names = ['Classifier', 'Year 1', 'Year 2', 'Both', 'Total']\n",
    "\n",
    "@ignore_warnings(category=ConvergenceWarning)\n",
    "def do_classifiers(models):\n",
    "    for model in models:\n",
    "        df, X, y = prepare_model_data.make_train_test(data, year=1, min_pop=None, split=False)\n",
    "        mean_score1 = cross_val_score(model, X, y).mean()\n",
    "\n",
    "        df, X, y = prepare_model_data.make_train_test(data, year=2, min_pop=None, split=False)\n",
    "        mean_score2 = cross_val_score(model, X, y).mean()\n",
    "\n",
    "        df, X, y = prepare_model_data.make_train_test(data, year=None, min_pop=None, split=False)\n",
    "        mean_score_combined = cross_val_score(model, X, y).mean()\n",
    "\n",
    "        score_sum = mean_score1 + mean_score2 + mean_score_combined\n",
    "\n",
    "        pt.add_row([model.__class__.__name__, round(mean_score1,3), round(mean_score2, 3), \n",
    "                    round(mean_score_combined, 3), round(score_sum, 3)])\n",
    "    print(pt)\n",
    "\n",
    "do_classifiers(classifier_models)\n"
   ]
  },
  {
   "cell_type": "markdown",
   "metadata": {},
   "source": [
    "The fit on just the second year was much better across the board than the first year, or both years combined. To me, that implies that 2nd year deaths are more predictable than first year desaths.\n",
    "\n",
    "Looks like LogisticRegressionCV and SVC are our big winners. \n",
    "\n",
    "Let's consider LogisticRegressionCV our base model, and see how its performance breaks down in confusion matrices. We will do a train/test split here, rather than the cross-validation used to score above."
   ]
  },
  {
   "cell_type": "code",
   "execution_count": 8,
   "metadata": {},
   "outputs": [
    {
     "name": "stdout",
     "output_type": "stream",
     "text": [
      "Year 1 Confusion Matrix\n"
     ]
    },
    {
     "data": {
      "image/png": "[encoded data removed]",
      "text/plain": [
       "<Figure size 432x288 with 2 Axes>"
      ]
     },
     "metadata": {
      "needs_background": "light"
     },
     "output_type": "display_data"
    }
   ],
   "source": [
    "from sklearn.metrics import ConfusionMatrixDisplay\n",
    "\n",
    "print(\"Year 1 Confusion Matrix\")\n",
    "(x_train, x_test, y_train, y_test, df)  = prepare_model_data.make_train_test(data, year=1, min_pop=None, regression=False, \n",
    "        split=True)\n",
    "\n",
    "lrcv1 = LogisticRegressionCV(random_state=SEED, max_iter=1000).fit(x_train, y_train)\n",
    "\n",
    "pred = lrcv1.predict(x_test)\n",
    "\n",
    "x = ConfusionMatrixDisplay.from_predictions(pred, y_test, normalize='true')"
   ]
  },
  {
   "cell_type": "code",
   "execution_count": 9,
   "metadata": {},
   "outputs": [
    {
     "name": "stdout",
     "output_type": "stream",
     "text": [
      "Year 2 Confusion Matrix\n"
     ]
    },
    {
     "data": {
      "image/png": "[encoded data removed]",
      "text/plain": [
       "<Figure size 432x288 with 2 Axes>"
      ]
     },
     "metadata": {
      "needs_background": "light"
     },
     "output_type": "display_data"
    }
   ],
   "source": [
    "print(\"Year 2 Confusion Matrix\")\n",
    "(x_train, x_test, y_train, y_test, df)  = prepare_model_data.make_train_test(data, year=2, min_pop=None, regression=False, \n",
    "        split=True)\n",
    "\n",
    "lrcv2 = LogisticRegressionCV(random_state=SEED, max_iter=1000).fit(x_train, y_train)\n",
    "\n",
    "pred = lrcv2.predict(x_test)\n",
    "\n",
    "x = ConfusionMatrixDisplay.from_predictions(pred, y_test, normalize='true')"
   ]
  },
  {
   "cell_type": "markdown",
   "metadata": {},
   "source": [
    "We can use permutation importance to figure out what really matters to these models that we've built."
   ]
  },
  {
   "cell_type": "code",
   "execution_count": 10,
   "metadata": {},
   "outputs": [
    {
     "name": "stdout",
     "output_type": "stream",
     "text": [
      "Year one\n",
      "+---------------------------------+-----------------------+\n",
      "|              Factor             | Importance (Year One) |\n",
      "+---------------------------------+-----------------------+\n",
      "|         % Over 65 (SVI)         |         0.032         |\n",
      "|      Life Expectancy (CHR)      |         0.025         |\n",
      "| Physically Unhealthy Days (CHR) |          0.02         |\n",
      "|         % Disabled (SVI)        |          0.02         |\n",
      "|   % Physically Inactive (CHR)   |         0.018         |\n",
      "|   Median Household (Wikipedia)  |         0.017         |\n",
      "|          % Rural (CHR)          |         0.017         |\n",
      "|      2016 Repub Vote Share      |         0.016         |\n",
      "|  Mentally Unhealthy Days (CHR)  |         0.016         |\n",
      "|         % Screened (CHR)        |         0.013         |\n",
      "+---------------------------------+-----------------------+\n"
     ]
    }
   ],
   "source": [
    "from sklearn.inspection import permutation_importance\n",
    "\n",
    "df, X, y = prepare_model_data.make_train_test(data, year=1, min_pop=None, split=False)\n",
    "best_model = LogisticRegressionCV(random_state=SEED, max_iter=1000).fit(X,y)\n",
    "\n",
    "result = permutation_importance(best_model, X, y, n_repeats=100)\n",
    "\n",
    "y1_importance = pd.Series(result.importances_mean, index=df.columns)\n",
    "\n",
    "disp = y1_importance.reindex(y1_importance.abs().sort_values(ascending=False).index)\n",
    "\n",
    "pt = PrettyTable()\n",
    "pt.field_names = ['Factor', 'Importance (Year One)']\n",
    "\n",
    "print(\"Year one\")\n",
    "#print(disp[disp > 0][:10])\n",
    "\n",
    "for x in disp[disp > 0][:10].index:\n",
    "    pt.add_row([x, round(disp[x], 3)])\n",
    "\n",
    "print(pt)"
   ]
  },
  {
   "cell_type": "code",
   "execution_count": 11,
   "metadata": {},
   "outputs": [
    {
     "name": "stdout",
     "output_type": "stream",
     "text": [
      "+--------------------------------+-----------------------+\n",
      "|             Factor             | Importance (Year Two) |\n",
      "+--------------------------------+-----------------------+\n",
      "|     2016 Repub Vote Share      |         0.038         |\n",
      "|     Teen Birth Rate (CHR)      |         0.018         |\n",
      "|      % Some College (CHR)      |         0.017         |\n",
      "|        % Hispanic (CHR)        |         0.016         |\n",
      "|   % Insufficient Sleep (CHR)   |         0.016         |\n",
      "|        % Diabetic (CHR)        |         0.016         |\n",
      "|    % Limited English (SVI)     |         0.015         |\n",
      "|         % Rural (CHR)          |         0.015         |\n",
      "|       % Fair/Poor (CHR)        |         0.013         |\n",
      "| Clinical Care Percentile (CHR) |         0.011         |\n",
      "+--------------------------------+-----------------------+\n"
     ]
    }
   ],
   "source": [
    "df, X, y = prepare_model_data.make_train_test(data, year=2, min_pop=None, split=False)\n",
    "best_model = LogisticRegressionCV(random_state=SEED, max_iter=1000).fit(X,y)\n",
    "\n",
    "result = permutation_importance(best_model, X, y, n_repeats=100)\n",
    "\n",
    "perm_importances = pd.Series(result.importances_mean, index=df.columns)\n",
    "\n",
    "y2_importance = perm_importances.reindex(perm_importances.abs().sort_values(ascending=False).index)\n",
    "\n",
    "# print(\"Year two\")\n",
    "# print(y2_importance[y2_importance > 0][:10])\n",
    "\n",
    "pt = PrettyTable()\n",
    "pt.field_names = ['Factor', 'Importance (Year Two)']\n",
    "\n",
    "for x in y2_importance[:10].index:\n",
    "    pt.add_row([x, round(y2_importance[x], 3)])\n",
    "\n",
    "print(pt)"
   ]
  },
  {
   "cell_type": "markdown",
   "metadata": {},
   "source": [
    "These importances don't tell us the direction of the correlation (whether they increase or decrease the likelihood of a county having high COVID rates.) We can unite this data with the correlation data to show all factors that mattered during the pandemic. Let's see which factors showed up in one of the models and had a big change in correlation."
   ]
  },
  {
   "cell_type": "code",
   "execution_count": 12,
   "metadata": {},
   "outputs": [],
   "source": [
    "summary = y1_importance.rename('Y1_IMPORTANCE').to_frame()\\\n",
    "    .join(y1_corr.rename(\"Y1_CORR\"))\\\n",
    "    .join(y2_importance.rename('Y2_IMPORTANCE'))\\\n",
    "    .join(y2_corr.rename(\"Y2_CORR\"))\n",
    "\n",
    "summary['CORR_DIFF'] = summary['Y2_CORR'] - summary['Y1_CORR']\n",
    "\n",
    "#summary[(summary.Y1_IMPORTANCE > 0) & (summary.Y2_IMPORTANCE > 0)].sort_values(by='Y2_IMPORTANCE', ascending=False)"
   ]
  },
  {
   "cell_type": "code",
   "execution_count": 13,
   "metadata": {},
   "outputs": [
    {
     "data": {
      "text/html": [
       "<div>\n",
       "<style scoped>\n",
       "    .dataframe tbody tr th:only-of-type {\n",
       "        vertical-align: middle;\n",
       "    }\n",
       "\n",
       "    .dataframe tbody tr th {\n",
       "        vertical-align: top;\n",
       "    }\n",
       "\n",
       "    .dataframe thead th {\n",
       "        text-align: right;\n",
       "    }\n",
       "</style>\n",
       "<table border=\"1\" class=\"dataframe\">\n",
       "  <thead>\n",
       "    <tr style=\"text-align: right;\">\n",
       "      <th></th>\n",
       "      <th>Y1_IMPORTANCE</th>\n",
       "      <th>Y1_CORR</th>\n",
       "      <th>Y2_IMPORTANCE</th>\n",
       "      <th>Y2_CORR</th>\n",
       "      <th>CORR_DIFF</th>\n",
       "    </tr>\n",
       "  </thead>\n",
       "  <tbody>\n",
       "    <tr>\n",
       "      <th>% Over 65 (SVI)</th>\n",
       "      <td>0.032299</td>\n",
       "      <td>0.061256</td>\n",
       "      <td>0.005368</td>\n",
       "      <td>0.239974</td>\n",
       "      <td>0.178718</td>\n",
       "    </tr>\n",
       "    <tr>\n",
       "      <th>Life Expectancy (CHR)</th>\n",
       "      <td>0.025440</td>\n",
       "      <td>-0.284754</td>\n",
       "      <td>0.006005</td>\n",
       "      <td>-0.490274</td>\n",
       "      <td>-0.205519</td>\n",
       "    </tr>\n",
       "    <tr>\n",
       "      <th>Physically Unhealthy Days (CHR)</th>\n",
       "      <td>0.020171</td>\n",
       "      <td>0.114035</td>\n",
       "      <td>0.008184</td>\n",
       "      <td>0.452853</td>\n",
       "      <td>0.338818</td>\n",
       "    </tr>\n",
       "    <tr>\n",
       "      <th>% Disabled (SVI)</th>\n",
       "      <td>0.019997</td>\n",
       "      <td>0.090178</td>\n",
       "      <td>0.001004</td>\n",
       "      <td>0.482125</td>\n",
       "      <td>0.391947</td>\n",
       "    </tr>\n",
       "    <tr>\n",
       "      <th>% Physically Inactive (CHR)</th>\n",
       "      <td>0.018058</td>\n",
       "      <td>0.298508</td>\n",
       "      <td>-0.000116</td>\n",
       "      <td>0.404044</td>\n",
       "      <td>0.105536</td>\n",
       "    </tr>\n",
       "    <tr>\n",
       "      <th>Median Household (Wikipedia)</th>\n",
       "      <td>0.017448</td>\n",
       "      <td>-0.277863</td>\n",
       "      <td>0.003066</td>\n",
       "      <td>-0.434362</td>\n",
       "      <td>-0.156499</td>\n",
       "    </tr>\n",
       "    <tr>\n",
       "      <th>% Rural (CHR)</th>\n",
       "      <td>0.017023</td>\n",
       "      <td>0.102122</td>\n",
       "      <td>0.014848</td>\n",
       "      <td>0.254303</td>\n",
       "      <td>0.152180</td>\n",
       "    </tr>\n",
       "    <tr>\n",
       "      <th>2016 Repub Vote Share</th>\n",
       "      <td>0.016256</td>\n",
       "      <td>0.136991</td>\n",
       "      <td>0.038342</td>\n",
       "      <td>0.419108</td>\n",
       "      <td>0.282117</td>\n",
       "    </tr>\n",
       "    <tr>\n",
       "      <th>Mentally Unhealthy Days (CHR)</th>\n",
       "      <td>0.015944</td>\n",
       "      <td>0.015366</td>\n",
       "      <td>0.001107</td>\n",
       "      <td>0.418606</td>\n",
       "      <td>0.403240</td>\n",
       "    </tr>\n",
       "    <tr>\n",
       "      <th>% Screened (CHR)</th>\n",
       "      <td>0.012751</td>\n",
       "      <td>-0.079571</td>\n",
       "      <td>0.004755</td>\n",
       "      <td>-0.331623</td>\n",
       "      <td>-0.252052</td>\n",
       "    </tr>\n",
       "  </tbody>\n",
       "</table>\n",
       "</div>"
      ],
      "text/plain": [
       "                                 Y1_IMPORTANCE   Y1_CORR  Y2_IMPORTANCE  \\\n",
       "% Over 65 (SVI)                       0.032299  0.061256       0.005368   \n",
       "Life Expectancy (CHR)                 0.025440 -0.284754       0.006005   \n",
       "Physically Unhealthy Days (CHR)       0.020171  0.114035       0.008184   \n",
       "% Disabled (SVI)                      0.019997  0.090178       0.001004   \n",
       "% Physically Inactive (CHR)           0.018058  0.298508      -0.000116   \n",
       "Median Household (Wikipedia)          0.017448 -0.277863       0.003066   \n",
       "% Rural (CHR)                         0.017023  0.102122       0.014848   \n",
       "2016 Repub Vote Share                 0.016256  0.136991       0.038342   \n",
       "Mentally Unhealthy Days (CHR)         0.015944  0.015366       0.001107   \n",
       "% Screened (CHR)                      0.012751 -0.079571       0.004755   \n",
       "\n",
       "                                  Y2_CORR  CORR_DIFF  \n",
       "% Over 65 (SVI)                  0.239974   0.178718  \n",
       "Life Expectancy (CHR)           -0.490274  -0.205519  \n",
       "Physically Unhealthy Days (CHR)  0.452853   0.338818  \n",
       "% Disabled (SVI)                 0.482125   0.391947  \n",
       "% Physically Inactive (CHR)      0.404044   0.105536  \n",
       "Median Household (Wikipedia)    -0.434362  -0.156499  \n",
       "% Rural (CHR)                    0.254303   0.152180  \n",
       "2016 Repub Vote Share            0.419108   0.282117  \n",
       "Mentally Unhealthy Days (CHR)    0.418606   0.403240  \n",
       "% Screened (CHR)                -0.331623  -0.252052  "
      ]
     },
     "execution_count": 13,
     "metadata": {},
     "output_type": "execute_result"
    }
   ],
   "source": [
    "summary[(summary.Y1_IMPORTANCE > 0)].sort_values(by='Y1_IMPORTANCE', ascending=False)[:10]\n",
    "#.sort_values(by='Y2_IMPORTANCE')[:10]\n",
    "#.sort_values(by='CORR_DIFF', key=lambda x: abs(x), ascending=False)[:10]"
   ]
  },
  {
   "cell_type": "markdown",
   "metadata": {},
   "source": [
    "### What do other models say?\n",
    "\n",
    "Let's run through several models and see what their top factors are for year two."
   ]
  },
  {
   "cell_type": "code",
   "execution_count": 18,
   "metadata": {},
   "outputs": [
    {
     "name": "stdout",
     "output_type": "stream",
     "text": [
      "starting LinearSVC\n"
     ]
    },
    {
     "name": "stderr",
     "output_type": "stream",
     "text": [
      "/Users/caseydurfee/.virtualenvs/py3-data/lib/python3.9/site-packages/sklearn/svm/_base.py:1206: ConvergenceWarning: Liblinear failed to converge, increase the number of iterations.\n",
      "  warnings.warn(\n"
     ]
    },
    {
     "name": "stdout",
     "output_type": "stream",
     "text": [
      "strating permutation importance\n",
      "done with LinearSVC -- 11.879898309707642\n",
      "\n",
      "starting GradientBoost\n",
      "strating permutation importance\n",
      "done with GradientBoost -- 56.58074402809143\n",
      "\n",
      "starting Ridge\n",
      "strating permutation importance\n",
      "done with Ridge -- 7.081863880157471\n",
      "\n",
      "starting RandomForest\n",
      "strating permutation importance\n",
      "done with RandomForest -- 344.27408623695374\n",
      "\n"
     ]
    }
   ],
   "source": [
    "y2_ranks = y2_importance.rank(ascending=False)\n",
    "\n",
    "#deaths.sort_values(ascending=False).index\n",
    "#print(y2_ranks.sort_values())\n",
    "\n",
    "runner_up_models = {\n",
    "    'LinearSVC': LinearSVC(),\n",
    "    'GradientBoost': GradientBoostingClassifier(),\n",
    "    'Ridge': RidgeClassifierCV(),\n",
    "    'RandomForest': RandomForestClassifier()\n",
    "}\n",
    "results = {}\n",
    "\n",
    "import time\n",
    "\n",
    "df, X, y = prepare_model_data.get_train_data(data, year=2)\n",
    "for mod_name, model in runner_up_models.items():\n",
    "    print(f\"starting {mod_name}\")\n",
    "    start = time.time()\n",
    "    fit_model = model.fit(X, y)\n",
    "\n",
    "    print(\"strating permutation importance\")\n",
    "    result = permutation_importance(fit_model, X, y, n_repeats=100)\n",
    "\n",
    "    perm_importances = pd.Series(result.importances_mean, index=df.columns).rank(ascending=False)\n",
    "\n",
    "    results[mod_name] = perm_importances\n",
    "\n",
    "    print(f\"done with {mod_name} -- {time.time() - start}\\n\")\n",
    "\n",
    "    #y2_linear_svc = perm_importances.reindex(perm_importances.abs().sort_values(ascending=False).index)\n"
   ]
  },
  {
   "cell_type": "code",
   "execution_count": 28,
   "metadata": {},
   "outputs": [
    {
     "name": "stdout",
     "output_type": "stream",
     "text": [
      "+------------------------------------+-----------+-----------+\n",
      "|               Factor               | LRCV Rank | Mean Rank |\n",
      "+------------------------------------+-----------+-----------+\n",
      "|       2016 Repub Vote Share        |     1     |    1.5    |\n",
      "|       Teen Birth Rate (CHR)        |     2     |   16.25   |\n",
      "|        % Some College (CHR)        |     3     |   10.25   |\n",
      "|          % Hispanic (CHR)          |     4     |   23.125  |\n",
      "|     % Insufficient Sleep (CHR)     |     5     |   39.125  |\n",
      "|          % Diabetic (CHR)          |     6     |    9.25   |\n",
      "|      % Limited English (SVI)       |     7     |   18.875  |\n",
      "|           % Rural (CHR)            |     8     |   37.875  |\n",
      "|         % Fair/Poor (CHR)          |     9     |    20.5   |\n",
      "|   Clinical Care Percentile (CHR)   |     10    |    16.5   |\n",
      "|           % Obese (CHR)            |     11    |   26.875  |\n",
      "|  % Severe Housing Problems (CHR)   |     12    |   36.625  |\n",
      "| % Frequent Physical Distress (CHR) |     13    |   27.25   |\n",
      "|     Median Family (Wikipedia)      |     14    |    25.5   |\n",
      "|         % Uninsured (CHR)          |     15    |   27.625  |\n",
      "|       % No HS Diploma (SVI)        |     16    |    21.5   |\n",
      "|  Physically Unhealthy Days (CHR)   |     17    |    32.5   |\n",
      "|         Income Ratio (CHR)         |     18    |   28.625  |\n",
      "|       Life Expectancy (CHR)        |     19    |    38.5   |\n",
      "|      COVID Complete Coverage       |     20    |    9.75   |\n",
      "+------------------------------------+-----------+-----------+\n"
     ]
    }
   ],
   "source": [
    "\n",
    "rows = []\n",
    "for factor in results['LinearSVC'].index:\n",
    "    mean_rank = (results['LinearSVC'][factor] + \n",
    "                results['GradientBoost'][factor] + \n",
    "                results['Ridge'][factor] + \n",
    "                results['RandomForest'][factor]) / 4\n",
    "    \n",
    "    if factor in y2_ranks:\n",
    "        lrcv_rank = y2_ranks[factor]\n",
    "    else:\n",
    "        lrcv_rank = \"N/A\"\n",
    "    \n",
    "    row = [factor, mean_rank, lrcv_rank]\n",
    "    #results['LinearSVC'][factor], results['GradientBoosting'][factor], \n",
    "    #        results['Ridge'][factor], mean_rank]\n",
    "    #pt.add_row(row)\n",
    "\n",
    "    rows.append(row)\n",
    "\n",
    "mean_rank_df = pd.DataFrame(rows, columns=[\"Factor\", \"Mean Rank\", \"LRCV Rank\"]).sort_values(by=\"LRCV Rank\", ascending=True)\n",
    "\n",
    "#mean_rank_df\n",
    "\n",
    "pt = PrettyTable()\n",
    "pt.field_names = ['Factor', 'LRCV Rank', 'Mean Rank'] #'LinearSVC', 'GradientBoosting', 'Ridge', 'Mean Rank']\n",
    "for x in mean_rank_df.index[:20]:\n",
    "    row = mean_rank_df.loc[x]\n",
    "    pt.add_row([row['Factor'], int(row['LRCV Rank']), row['Mean Rank']])\n",
    "\n",
    "print(pt)"
   ]
  },
  {
   "cell_type": "markdown",
   "metadata": {},
   "source": [
    "### Big Counties only\n",
    "\n",
    "We've been looking at all counties. However, many of the metrics we have are imputed by the sources we got them from (SVI, County Health Rankings, CDC, etc.) Those data sources provide confidence intervals on their estimations but we're not using those.\n",
    "\n",
    "So it makes sense to look at just big US counties (over 50,000 population)"
   ]
  },
  {
   "cell_type": "code",
   "execution_count": null,
   "metadata": {},
   "outputs": [],
   "source": [
    "df, X, y = prepare_model_data.make_train_test(data, year=2, min_pop=50000, split=False)\n",
    "\n",
    "y2_bigcounty_model = LogisticRegressionCV(max_iter=20000).fit(X,y)\n",
    "\n",
    "result = permutation_importance(y2_bigcounty_model, X, y, n_repeats=100)\n",
    "\n",
    "perm_importances = pd.Series(result.importances_mean, index=df.columns)\n",
    "\n",
    "y2_bigcounty_importance = perm_importances.reindex(perm_importances.abs().sort_values(ascending=False).index)\n",
    "\n",
    "print(\"Year two - Big Counties Only\")\n",
    "print()\n",
    "\n",
    "\n"
   ]
  },
  {
   "cell_type": "code",
   "execution_count": 32,
   "metadata": {},
   "outputs": [
    {
     "name": "stdout",
     "output_type": "stream",
     "text": [
      "+--------------------------------+------------+\n",
      "|             Factor             | Importance |\n",
      "+--------------------------------+------------+\n",
      "|     2016 Repub Vote Share      |   0.025    |\n",
      "|    Segregation index (CHR)     |   0.016    |\n",
      "|       Income Ratio (CHR)       |   0.015    |\n",
      "|        % Over 65 (SVI)         |   0.015    |\n",
      "|         % Female (CHR)         |   0.014    |\n",
      "| Clinical Care Percentile (CHR) |   0.014    |\n",
      "|   % Insufficient Sleep (CHR)   |   0.013    |\n",
      "|         % Rural (CHR)          |   0.013    |\n",
      "|  Infant Mortality Rate (CHR)   |   0.012    |\n",
      "|     COVID Booster Coverage     |   0.011    |\n",
      "+--------------------------------+------------+\n"
     ]
    }
   ],
   "source": [
    "pt = PrettyTable()\n",
    "pt.field_names = ['Factor', 'Importance'] \n",
    "for x in y2_bigcounty_importance[y2_bigcounty_importance > 0].index[:10]:\n",
    "    pt.add_row([x, round(y2_bigcounty_importance.loc[x], 3)])\n",
    "\n",
    "print(pt)"
   ]
  },
  {
   "cell_type": "markdown",
   "metadata": {},
   "source": [
    "Once again REPUB_PARTISAN is the strongest factor used by the model to predict high COVID fatality rates."
   ]
  },
  {
   "cell_type": "markdown",
   "metadata": {},
   "source": [
    "Finally, let's see how "
   ]
  },
  {
   "cell_type": "code",
   "execution_count": 34,
   "metadata": {},
   "outputs": [
    {
     "name": "stdout",
     "output_type": "stream",
     "text": [
      "+--------------------+--------+--------+-------+-------+\n",
      "|     Classifier     | Year 1 | Year 2 |  Both | Total |\n",
      "+--------------------+--------+--------+-------+-------+\n",
      "| RandomForestClassi | 0.731  | 0.798  | 0.778 | 2.307 |\n",
      "|        SVC         | 0.739  | 0.806  | 0.783 | 2.328 |\n",
      "| LogisticRegression | 0.731  | 0.811  | 0.791 | 2.333 |\n",
      "| RidgeClassifierCV  | 0.718  |  0.79  | 0.747 | 2.254 |\n",
      "| AdaBoostClassifier | 0.718  | 0.796  | 0.783 | 2.297 |\n",
      "| BaggingClassifier  | 0.687  | 0.768  | 0.737 | 2.192 |\n",
      "| GradientBoostingCl | 0.764  | 0.801  | 0.784 | 2.349 |\n",
      "|     LinearSVC      | 0.701  | 0.768  | 0.755 | 2.224 |\n",
      "+--------------------+--------+--------+-------+-------+\n"
     ]
    }
   ],
   "source": [
    "pt = PrettyTable()\n",
    "pt.field_names = ['Classifier', 'Year 1', 'Year 2', 'Both', 'Total']\n",
    "\n",
    "@ignore_warnings(category=ConvergenceWarning)\n",
    "def do_classifiers(models):\n",
    "    for model in models:\n",
    "        df, X, y = prepare_model_data.make_train_test(data, year=1, min_pop=50000, split=False)\n",
    "        mean_score1 = cross_val_score(model, X, y).mean()\n",
    "\n",
    "        df, X, y = prepare_model_data.make_train_test(data, year=2, min_pop=50000, split=False)\n",
    "        mean_score2 = cross_val_score(model, X, y).mean()\n",
    "\n",
    "        df, X, y = prepare_model_data.make_train_test(data, year=None, min_pop=50000, split=False)\n",
    "        mean_score_combined = cross_val_score(model, X, y).mean()\n",
    "\n",
    "        score_sum = mean_score1 + mean_score2 + mean_score_combined\n",
    "\n",
    "        pt.add_row([model.__class__.__name__[:18], round(mean_score1,3), round(mean_score2, 3), \n",
    "                    round(mean_score_combined, 3), round(score_sum, 3)])\n",
    "    print(pt)\n",
    "\n",
    "do_classifiers(classifier_models)"
   ]
  },
  {
   "cell_type": "code",
   "execution_count": 36,
   "metadata": {},
   "outputs": [
    {
     "name": "stdout",
     "output_type": "stream",
     "text": [
      "Year 1 Confusion Matrix\n"
     ]
    },
    {
     "data": {
      "image/png": "[encoded data removed]",
      "text/plain": [
       "<Figure size 432x288 with 2 Axes>"
      ]
     },
     "metadata": {
      "needs_background": "light"
     },
     "output_type": "display_data"
    }
   ],
   "source": [
    "print(\"Year 1 Confusion Matrix\")\n",
    "(x_train, x_test, y_train, y_test, df)  = prepare_model_data.make_train_test(data, year=1, min_pop=50000, regression=False, \n",
    "        split=True)\n",
    "\n",
    "lrcv2 = LogisticRegressionCV(random_state=SEED, max_iter=1000).fit(x_train, y_train)\n",
    "\n",
    "pred = lrcv2.predict(x_test)\n",
    "\n",
    "x = ConfusionMatrixDisplay.from_predictions(pred, y_test, normalize='true')"
   ]
  },
  {
   "cell_type": "code",
   "execution_count": 35,
   "metadata": {},
   "outputs": [
    {
     "name": "stdout",
     "output_type": "stream",
     "text": [
      "Year 2 Confusion Matrix\n"
     ]
    },
    {
     "data": {
      "image/png": "[encoded data removed]",
      "text/plain": [
       "<Figure size 432x288 with 2 Axes>"
      ]
     },
     "metadata": {
      "needs_background": "light"
     },
     "output_type": "display_data"
    }
   ],
   "source": [
    "print(\"Year 2 Confusion Matrix\")\n",
    "(x_train, x_test, y_train, y_test, df)  = prepare_model_data.make_train_test(data, year=2, min_pop=50000, regression=False, \n",
    "        split=True)\n",
    "\n",
    "lrcv2 = LogisticRegressionCV(random_state=SEED, max_iter=1000).fit(x_train, y_train)\n",
    "\n",
    "pred = lrcv2.predict(x_test)\n",
    "\n",
    "x = ConfusionMatrixDisplay.from_predictions(pred, y_test, normalize='true')"
   ]
  },
  {
   "cell_type": "markdown",
   "metadata": {},
   "source": [
    "What percent of people in the US live in these bigger counties?"
   ]
  },
  {
   "cell_type": "code",
   "execution_count": 42,
   "metadata": {},
   "outputs": [
    {
     "data": {
      "text/plain": [
       "0.8713329298014472"
      ]
     },
     "execution_count": 42,
     "metadata": {},
     "output_type": "execute_result"
    }
   ],
   "source": [
    "big_counties = data[data.POPULATION > 50000]\n",
    "\n",
    "sum(big_counties.POPULATION) / sum(data.POPULATION)"
   ]
  },
  {
   "cell_type": "markdown",
   "metadata": {},
   "source": [
    "What is most strongly associated with 2016 Repub Vote Share?"
   ]
  },
  {
   "cell_type": "code",
   "execution_count": 50,
   "metadata": {},
   "outputs": [
    {
     "name": "stdout",
     "output_type": "stream",
     "text": [
      "+----------------------------------+---------------------+\n",
      "|               Name               | r^2 with Repub vote |\n",
      "+----------------------------------+---------------------+\n",
      "|      COVID Partial Coverage      |        -0.692       |\n",
      "|     COVID Complete Coverage      |        -0.688       |\n",
      "|      COVID Booster Coverage      |        -0.594       |\n",
      "| % Severe Housing Problems (CHR)  |        -0.564       |\n",
      "|    % Multiunit Housing (SVI)     |        -0.529       |\n",
      "|    % Non-Hispanic White (CHR)    |         0.52        |\n",
      "|         % Minority (SVI)         |        -0.518       |\n",
      "|          % Rural (CHR)           |        0.469        |\n",
      "|        % Homeowners (CHR)        |        0.467        |\n",
      "|          % Asian (CHR)           |        -0.441       |\n",
      "|       Chlamydia Rate (CHR)       |        -0.431       |\n",
      "|     % African American (CHR)     |        -0.404       |\n",
      "|    HIV Prevalence Rate (CHR)     |        -0.401       |\n",
      "|   % Physically Inactive (CHR)    |        0.398        |\n",
      "|          MHP Rate (CHR)          |        -0.388       |\n",
      "|        % No Vehicle (SVI)        |        -0.379       |\n",
      "|        Dentist Rate (CHR)        |        -0.371       |\n",
      "| % Single-Parent Households (CHR) |        -0.355       |\n",
      "|     MV Mortality Rate (CHR)      |        0.353        |\n",
      "|            POPULATION            |        -0.349       |\n",
      "+----------------------------------+---------------------+\n"
     ]
    }
   ],
   "source": [
    "\n",
    "\n",
    "\n",
    "# top_cols_in_either = y1_corr[:20].index.union(y2_corr[:20].index)\n",
    "\n",
    "pt = PrettyTable()\n",
    "pt.field_names = ['Name', 'r^2 with Repub vote']\n",
    "\n",
    "repub_corr = data.corr()['2016 Repub Vote Share']\n",
    "\n",
    "repub_corr = repub_corr.reindex(repub_corr.abs().sort_values(ascending=False).index) \\\n",
    "    .drop(death_cols).drop(\"2016 Repub Vote Share\")\n",
    "\n",
    "for x in repub_corr.index[:20]:\n",
    "    pt.add_row([x, round(repub_corr[x], 3)])\n",
    "\n",
    "\n",
    "print(pt)\n",
    "\n",
    "# rows = []\n",
    "# for c in top_cols_in_either:\n",
    "#     row = [c, round(y1_corr[c], 3), round(y2_corr[c], 3)]\n",
    "#     # pt.add_row(row)\n",
    "#     rows.append(row)\n",
    "\n",
    "# sorted_rows = sorted(rows, key=lambda x: abs(x[1]) + abs(x[2]), reverse=True)\n",
    "\n",
    "# for x in sorted_rows:\n",
    "#     pt.add_row(x)\n",
    "\n",
    "# print(pt)"
   ]
  },
  {
   "cell_type": "code",
   "execution_count": 54,
   "metadata": {},
   "outputs": [
    {
     "name": "stdout",
     "output_type": "stream",
     "text": [
      "Age-Adjusted Mortality (CHR)                  0.495016\n",
      "Life Expectancy (CHR)                        -0.490274\n",
      "% Disabled (SVI)                              0.482125\n",
      "Years of Potential Life Lost Rate (CHR)       0.466963\n",
      "Median Family (Wikipedia)                    -0.457310\n",
      "Physically Unhealthy Days (CHR)               0.452853\n",
      "Teen Birth Rate (CHR)                         0.450424\n",
      "% Some College (CHR)                         -0.442925\n",
      "COVID Complete Coverage                      -0.439520\n",
      "Median Household (Wikipedia)                 -0.434362\n",
      "COVID Booster Coverage                       -0.433765\n",
      "% Diabetic (CHR)                              0.432851\n",
      "% Frequent Physical Distress (CHR)            0.431779\n",
      "% Frequent Mental Distress (CHR)              0.431077\n",
      "Firearm Fatalities Rate (CHR)                 0.427629\n",
      "Per Capita Income (SVI)                      -0.424035\n",
      "COVID Partial Coverage                       -0.420090\n",
      "2016 Repub Vote Share                         0.419108\n",
      "Mentally Unhealthy Days (CHR)                 0.418606\n",
      "Per Capita (Wikipedia)                       -0.417305\n",
      "% Excessive Drinking (CHR)                   -0.414861\n",
      "% Physically Inactive (CHR)                   0.404044\n",
      "Age-Adjusted Mortality (Hispanic) (CHR)       0.397712\n",
      "% Children in Poverty (CHR)                   0.395798\n",
      "% Mobile Homes (SVI)                          0.392566\n",
      "MV Mortality Rate (CHR)                       0.384732\n",
      "% Smokers (CHR)                               0.369153\n",
      "% Disconnected Youth (CHR)                    0.366569\n",
      "% Fair/Poor (CHR)                             0.365385\n",
      "Injury Death Rate (CHR)                       0.361140\n",
      "% Multiunit Housing (SVI)                    -0.344628\n",
      "Infant Mortality Rate (CHR)                   0.343160\n",
      "% Screened (CHR)                             -0.331623\n",
      "% Free or Reduced Lunch (CHR)                 0.317848\n",
      "Child Mortality Rate (CHR)                    0.314236\n",
      "% No HS Diploma (SVI)                         0.312086\n",
      "% Below Poverty Line (SVI)                    0.306562\n",
      "Length of Life Percentile (CHR)              -0.299152\n",
      "% Asian (CHR)                                -0.284698\n",
      "% Uninsured (CHR)                             0.280800\n",
      "Dentist Rate (CHR)                           -0.280745\n",
      "% Food Insecure (CHR)                         0.278445\n",
      "HEALTH_OUTCOMES_PERCENTILE (CHR)             -0.275114\n",
      "% Insufficient Sleep (CHR)                    0.261217\n",
      "PCP Rate (CHR)                               -0.259945\n",
      "% Unemployed (CHR)                            0.254453\n",
      "% Rural (CHR)                                 0.254303\n",
      "% Uninsured (SVI)                             0.253985\n",
      "HEALTH_FACTORS_PERCENTILE (CHR)              -0.242048\n",
      "Social & Economic Factors Percentile (CHR)   -0.240870\n",
      "% Over 65 (SVI)                               0.239974\n",
      "Preventable Hosp. Rate (CHR)                  0.239760\n",
      "% Obese (CHR)                                 0.226425\n",
      "% Vaccinated (CHR)                           -0.223298\n",
      "Drug Overdose Mortality Rate (CHR)            0.221192\n",
      "% Unemployed (SVI)                            0.217375\n",
      "Clinical Care Percentile (CHR)               -0.217158\n",
      "Quality of Life Percentile (CHR)             -0.190930\n",
      "Health Behaviors Percentile (CHR)            -0.184709\n",
      "MHP Rate (CHR)                               -0.183697\n",
      "Homicide Rate (CHR)                           0.175016\n",
      "% Single-Parent Households (CHR)              0.173229\n",
      "POPULATION                                   -0.158281\n",
      "% Limited English (SVI)                      -0.133136\n",
      "% Homeowners (CHR)                            0.132307\n",
      "Segregation index (CHR)                      -0.109471\n",
      "DENSITY                                      -0.107344\n",
      "Income Ratio (CHR)                            0.088991\n",
      "Physical Environment Percentile (CHR)         0.087217\n",
      "HIV Prevalence Rate (CHR)                    -0.086887\n",
      "% Alcohol-Impaired (CHR)                     -0.079054\n",
      "% Minority (SVI)                             -0.065145\n",
      "% Non-Hispanic White (CHR)                    0.063103\n",
      "% In Group Quarters (SVI)                    -0.062203\n",
      "% Severe Housing Problems (CHR)              -0.058991\n",
      "Violent Crime Rate (CHR)                      0.055846\n",
      "% Crowded Living (SVI)                        0.042293\n",
      "% Hispanic (CHR)                             -0.035089\n",
      "% Female (CHR)                                0.031939\n",
      "Age-Adjusted Mortality (Black) (CHR)          0.027724\n",
      "% Single Parent Households (SVI)              0.025415\n",
      "Chlamydia Rate (CHR)                         -0.022448\n",
      "ALAND_SQMI                                   -0.022007\n",
      "% No Vehicle (SVI)                            0.020486\n",
      "% Under 17 (SVI)                             -0.014887\n",
      "% African American (CHR)                     -0.005475\n"
     ]
    }
   ],
   "source": [
    "disp = y2_corr.reindex(y2_corr.abs().sort_values(ascending=False).index)\n",
    "\n",
    "print(disp.to_string())"
   ]
  },
  {
   "cell_type": "code",
   "execution_count": null,
   "metadata": {},
   "outputs": [],
   "source": []
  }
 ],
 "metadata": {
  "interpreter": {
   "hash": "3e5e67dba9ec50688b51d210d69127116c7da1f67ec0df7da4b6c1a14dc73fba"
  },
  "kernelspec": {
   "display_name": "Python 3.9.10 ('py3-data')",
   "language": "python",
   "name": "python3"
  },
  "language_info": {
   "codemirror_mode": {
    "name": "ipython",
    "version": 3
   },
   "file_extension": ".py",
   "mimetype": "text/x-python",
   "name": "python",
   "nbconvert_exporter": "python",
   "pygments_lexer": "ipython3",
   "version": "3.9.13"
  },
  "orig_nbformat": 4
 },
 "nbformat": 4,
 "nbformat_minor": 2
}
