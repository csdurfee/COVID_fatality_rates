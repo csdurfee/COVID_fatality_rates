{
 "cells": [
  {
   "cell_type": "markdown",
   "metadata": {},
   "source": [
    "I want to figure out which machine learning model will best predict counties with high COVID fatality rates. I will train separate models for year one and year two. Hopefully the same model performs well on both years.\n",
    "\n",
    "First, let's get all the data:"
   ]
  },
  {
   "cell_type": "code",
   "execution_count": 1,
   "metadata": {},
   "outputs": [],
   "source": [
    "import sys\n",
    "import matplotlib.pyplot as plt\n",
    "import numpy as np\n",
    "from sklearn.linear_model import RidgeClassifierCV\n",
    "from sklearn.feature_selection import SelectFromModel\n",
    "from sklearn.ensemble import RandomForestClassifier, AdaBoostClassifier\n",
    "from sklearn.svm import SVC\n",
    "import pandas as pd\n",
    "from sklearn.metrics import roc_auc_score\n",
    "\n",
    "class config:\n",
    "    USE_CACHE = True\n",
    "    CACHE_DIR = \"/Users/caseydurfee/msds/data_mining_final_project/cache\"\n",
    "\n",
    "from COVID_data import all_data\n",
    "data = all_data.get_all_data(config)"
   ]
  },
  {
   "cell_type": "markdown",
   "metadata": {},
   "source": [
    "Now, we'll get training data for year 1, with a min population of 50,000."
   ]
  },
  {
   "cell_type": "code",
   "execution_count": 9,
   "metadata": {},
   "outputs": [
    {
     "name": "stdout",
     "output_type": "stream",
     "text": [
      "dropping ['DEATHS_FIRST_YEAR', 'DEATHS', 'DEATHS_SECOND_YEAR', 'DEATHS_ALPHA', 'DEATHS_DELTA', 'DEATHS_OMICRON', 'DEATH_RATE', 'DEATH_RATE_FIRST_YEAR', 'DEATH_RATE_SECOND_YEAR', 'DEATH_RATE_ALPHA', 'DEATH_RATE_DELTA', 'DEATH_RATE_OMICRON']\n"
     ]
    },
    {
     "name": "stderr",
     "output_type": "stream",
     "text": [
      "/Users/caseydurfee/.virtualenvs/py3-data/lib/python3.9/site-packages/sklearn/svm/_base.py:1206: ConvergenceWarning: Liblinear failed to converge, increase the number of iterations.\n",
      "  warnings.warn(\n"
     ]
    },
    {
     "name": "stdout",
     "output_type": "stream",
     "text": [
      ">>>> mean scores for year 1\n",
      "<class 'sklearn.ensemble._forest.RandomForestClassifier'>          0.586549\n",
      "<class 'sklearn.svm._classes.SVC'>                                 0.588568\n",
      "<class 'sklearn.linear_model._logistic.LogisticRegressionCV'>      0.584277\n",
      "<class 'sklearn.linear_model._ridge.RidgeClassifierCV'>            0.613578\n",
      "<class 'sklearn.ensemble._weight_boosting.AdaBoostClassifier'>     0.644440\n",
      "<class 'sklearn.ensemble._bagging.BaggingClassifier'>              0.603073\n",
      "<class 'sklearn.ensemble._gb.GradientBoostingClassifier'>          0.612329\n",
      "<class 'sklearn.svm._classes.LinearSVC'>                           0.636336\n",
      "<class 'sklearn.linear_model._least_angle.LassoLarsCV'>            0.740688\n",
      "<class 'sklearn.linear_model._coordinate_descent.ElasticNetCV'>    0.739316\n",
      "dtype: float64\n",
      "dropping ['DEATHS_FIRST_YEAR', 'DEATHS', 'DEATHS_SECOND_YEAR', 'DEATHS_ALPHA', 'DEATHS_DELTA', 'DEATHS_OMICRON', 'DEATH_RATE', 'DEATH_RATE_FIRST_YEAR', 'DEATH_RATE_SECOND_YEAR', 'DEATH_RATE_ALPHA', 'DEATH_RATE_DELTA', 'DEATH_RATE_OMICRON']\n"
     ]
    },
    {
     "name": "stderr",
     "output_type": "stream",
     "text": [
      "/Users/caseydurfee/.virtualenvs/py3-data/lib/python3.9/site-packages/sklearn/svm/_base.py:1206: ConvergenceWarning: Liblinear failed to converge, increase the number of iterations.\n",
      "  warnings.warn(\n",
      "/Users/caseydurfee/.virtualenvs/py3-data/lib/python3.9/site-packages/sklearn/svm/_base.py:1206: ConvergenceWarning: Liblinear failed to converge, increase the number of iterations.\n",
      "  warnings.warn(\n",
      "/Users/caseydurfee/.virtualenvs/py3-data/lib/python3.9/site-packages/sklearn/linear_model/_coordinate_descent.py:633: ConvergenceWarning: Objective did not converge. You might want to increase the number of iterations. Duality gap: 0.011343874434402323, tolerance: 0.01086895973154362\n",
      "  model = cd_fast.enet_coordinate_descent_gram(\n",
      "/Users/caseydurfee/.virtualenvs/py3-data/lib/python3.9/site-packages/sklearn/linear_model/_coordinate_descent.py:633: ConvergenceWarning: Objective did not converge. You might want to increase the number of iterations. Duality gap: 0.012287935580729936, tolerance: 0.01086895973154362\n",
      "  model = cd_fast.enet_coordinate_descent_gram(\n",
      "/Users/caseydurfee/.virtualenvs/py3-data/lib/python3.9/site-packages/sklearn/linear_model/_coordinate_descent.py:633: ConvergenceWarning: Objective did not converge. You might want to increase the number of iterations. Duality gap: 0.013642498503642742, tolerance: 0.01086895973154362\n",
      "  model = cd_fast.enet_coordinate_descent_gram(\n",
      "/Users/caseydurfee/.virtualenvs/py3-data/lib/python3.9/site-packages/sklearn/linear_model/_coordinate_descent.py:633: ConvergenceWarning: Objective did not converge. You might want to increase the number of iterations. Duality gap: 0.009661565359166957, tolerance: 0.00921946308724832\n",
      "  model = cd_fast.enet_coordinate_descent_gram(\n",
      "/Users/caseydurfee/.virtualenvs/py3-data/lib/python3.9/site-packages/sklearn/linear_model/_coordinate_descent.py:633: ConvergenceWarning: Objective did not converge. You might want to increase the number of iterations. Duality gap: 0.010100315720144692, tolerance: 0.00921946308724832\n",
      "  model = cd_fast.enet_coordinate_descent_gram(\n",
      "/Users/caseydurfee/.virtualenvs/py3-data/lib/python3.9/site-packages/sklearn/linear_model/_coordinate_descent.py:633: ConvergenceWarning: Objective did not converge. You might want to increase the number of iterations. Duality gap: 0.011004122614949097, tolerance: 0.00921946308724832\n",
      "  model = cd_fast.enet_coordinate_descent_gram(\n"
     ]
    },
    {
     "name": "stdout",
     "output_type": "stream",
     "text": [
      ">>>> mean scores for year 2\n",
      "<class 'sklearn.ensemble._forest.RandomForestClassifier'>          0.691530\n",
      "<class 'sklearn.svm._classes.SVC'>                                 0.680794\n",
      "<class 'sklearn.linear_model._logistic.LogisticRegressionCV'>      0.714251\n",
      "<class 'sklearn.linear_model._ridge.RidgeClassifierCV'>            0.693006\n",
      "<class 'sklearn.ensemble._weight_boosting.AdaBoostClassifier'>     0.696235\n",
      "<class 'sklearn.ensemble._bagging.BaggingClassifier'>              0.656404\n",
      "<class 'sklearn.ensemble._gb.GradientBoostingClassifier'>          0.716683\n",
      "<class 'sklearn.svm._classes.LinearSVC'>                           0.715096\n",
      "<class 'sklearn.linear_model._least_angle.LassoLarsCV'>            0.865199\n",
      "<class 'sklearn.linear_model._coordinate_descent.ElasticNetCV'>    0.865058\n",
      "dtype: float64\n"
     ]
    }
   ],
   "source": [
    "from COVID_data import prepare_model_data\n",
    "\n",
    "from sklearn.linear_model import LogisticRegressionCV, LassoLarsCV, ElasticNetCV\n",
    "from sklearn.ensemble import BaggingClassifier, GradientBoostingClassifier\n",
    "from sklearn.svm import LinearSVC\n",
    "from sklearn.metrics import make_scorer\n",
    "from sklearn.model_selection import cross_val_score\n",
    "import pprint\n",
    "\n",
    "test_models = [ RandomForestClassifier(), \n",
    "                SVC(), \n",
    "                LogisticRegressionCV(max_iter=10000), \n",
    "                RidgeClassifierCV(), \n",
    "                AdaBoostClassifier(), \n",
    "                BaggingClassifier(),\n",
    "                GradientBoostingClassifier(),\n",
    "                LinearSVC(max_iter=10000),\n",
    "                LassoLarsCV(normalize=False),\n",
    "                ElasticNetCV()\n",
    "            ]\n",
    "\n",
    "roc_auc_scorer = make_scorer(roc_auc_score)\n",
    "\n",
    "ITERS = 1\n",
    "\n",
    "for year in [1,2]:\n",
    "    df, X, y = prepare_model_data.make_train_test(data, year=year, split=False)\n",
    "\n",
    "    roc_scores = {}\n",
    "    max_roc = 0.0\n",
    "    best_model = None\n",
    "    for throwaway in range(ITERS):\n",
    "        for model in test_models:\n",
    "            model_name = repr(model.__class__)\n",
    "\n",
    "            model = model.fit(X, y) # shouldnt' need this for cross-val\n",
    "\n",
    "            mean_score = cross_val_score(model, X, y, scoring=roc_auc_scorer).mean()\n",
    "\n",
    "            if model_name not in roc_scores:\n",
    "                roc_scores[model_name] = 0.0\n",
    "            roc_scores[model_name] += mean_score\n",
    "            if mean_score > max_roc:\n",
    "                best_model = model\n",
    "                max_roc = mean_score\n",
    "\n",
    "    sz = pd.Series(roc_scores)\n",
    "    print(f\">>>> mean scores for year {year}\")\n",
    "    print(sz / ITERS)\n"
   ]
  },
  {
   "cell_type": "markdown",
   "metadata": {},
   "source": [
    "Looks like SVC is our big winner."
   ]
  },
  {
   "cell_type": "markdown",
   "metadata": {},
   "source": [
    "now, let's use permutation importance to figure out what really matters."
   ]
  },
  {
   "cell_type": "code",
   "execution_count": 13,
   "metadata": {},
   "outputs": [
    {
     "name": "stdout",
     "output_type": "stream",
     "text": [
      "dropping ['DEATHS_FIRST_YEAR', 'DEATHS', 'DEATHS_SECOND_YEAR', 'DEATHS_ALPHA', 'DEATHS_DELTA', 'DEATHS_OMICRON', 'DEATH_RATE', 'DEATH_RATE_FIRST_YEAR', 'DEATH_RATE_SECOND_YEAR', 'DEATH_RATE_ALPHA', 'DEATH_RATE_DELTA', 'DEATH_RATE_OMICRON']\n",
      "Segregation index         0.000538\n",
      "Teen Birth Rate           0.000996\n",
      "Preventable Hosp. Rate    0.001192\n",
      "% Insufficient Sleep      0.001839\n",
      "% Alcohol-Impaired        0.002431\n",
      "EP_MUNIT                  0.004804\n",
      "% Smokers                 0.005455\n",
      "% Female                  0.010728\n",
      "EP_UNINSUR                0.011147\n",
      "% Asian                   0.012179\n",
      "% Rural                   0.014280\n",
      "dtype: float64\n"
     ]
    }
   ],
   "source": [
    "from sklearn.inspection import permutation_importance\n",
    "\n",
    "df, X, y = prepare_model_data.make_train_test(data, year=1, split=False)\n",
    "\n",
    "result = permutation_importance(best_model, X, y, \n",
    "            n_repeats=100)\n",
    "\n",
    "perm_importances = pd.Series(result.importances_mean, index=df.columns)\n",
    "\n",
    "disp = perm_importances.reindex(perm_importances.abs().sort_values().index)\n",
    "\n",
    "print(disp[disp > 0])"
   ]
  },
  {
   "cell_type": "code",
   "execution_count": 14,
   "metadata": {},
   "outputs": [
    {
     "name": "stdout",
     "output_type": "stream",
     "text": [
      "dropping ['DEATHS_FIRST_YEAR', 'DEATHS', 'DEATHS_SECOND_YEAR', 'DEATHS_ALPHA', 'DEATHS_DELTA', 'DEATHS_OMICRON', 'DEATH_RATE', 'DEATH_RATE_FIRST_YEAR', 'DEATH_RATE_SECOND_YEAR', 'DEATH_RATE_ALPHA', 'DEATH_RATE_DELTA', 'DEATH_RATE_OMICRON']\n",
      "% Excessive Drinking                 0.000042\n",
      "Length_of_Life_Percentile            0.000042\n",
      "Years of Potential Life Lost Rate    0.000145\n",
      "Segregation index                    0.000204\n",
      "Firearm Fatalities Rate              0.000389\n",
      "% Insufficient Sleep                 0.000549\n",
      "% Alcohol-Impaired                   0.000604\n",
      "EP_MUNIT                             0.000713\n",
      "% Physically Inactive                0.000755\n",
      "% Screened                           0.000782\n",
      "% Smokers                            0.001039\n",
      "Preventable Hosp. Rate               0.001232\n",
      "% African American                   0.001436\n",
      "Physically Unhealthy Days            0.001877\n",
      "MV Mortality Rate                    0.002030\n",
      "% Rural                              0.002295\n",
      "% Asian                              0.003073\n",
      "Complete Coverage                    0.003547\n",
      "% Female                             0.004382\n",
      "% Vaccinated                         0.004796\n",
      "Injury Death Rate                    0.008280\n",
      "Age-Adjusted Mortality               0.009922\n",
      "Partial Coverage                     0.011573\n",
      "EP_AGE65                             0.020420\n",
      "EP_UNINSUR                           0.025392\n",
      "Teen Birth Rate                      0.033862\n",
      "EP_SNGPNT                            0.036627\n",
      "EP_DISABL                            0.038879\n",
      "REPUB_PARTISAN                       0.070357\n",
      "dtype: float64\n"
     ]
    }
   ],
   "source": [
    "df, X, y = prepare_model_data.make_train_test(data, year=2, split=False)\n",
    "\n",
    "result = permutation_importance(best_model, X, y, \n",
    "            n_repeats=100)\n",
    "\n",
    "perm_importances = pd.Series(result.importances_mean, index=df.columns)\n",
    "\n",
    "disp = perm_importances.reindex(perm_importances.abs().sort_values().index)\n",
    "\n",
    "print(disp[disp > 0])"
   ]
  },
  {
   "cell_type": "markdown",
   "metadata": {},
   "source": [
    "it seems suspicious that the best model is the only one that tunes itself. Let's try grid search on SVC and see if we can up the success."
   ]
  },
  {
   "cell_type": "code",
   "execution_count": null,
   "metadata": {},
   "outputs": [],
   "source": [
    "from sklearn.model_selection import cross_val_score, GridSearchCV\n",
    "\n",
    "parameters = {\n",
    "    'C': [2**x for x in range(3, 13)],\n",
    "    'gamma': [2**x for x in range(-15,-5)]\n",
    "}\n",
    "\n",
    "\n",
    "\n",
    "grid = GridSearchCV(SVC(), parameters).fit(x_train, y_train)"
   ]
  },
  {
   "cell_type": "code",
   "execution_count": null,
   "metadata": {},
   "outputs": [],
   "source": [
    "\n",
    "scores = [x for x in grid.cv_results_[\"mean_test_score\"]]\n",
    "scores = np.array(scores).reshape(len(grid.param_grid[\"C\"]), len(grid.param_grid[\"gamma\"]))\n",
    "\n",
    "print(scores)"
   ]
  },
  {
   "cell_type": "code",
   "execution_count": null,
   "metadata": {},
   "outputs": [],
   "source": [
    "final_model = SVC(C=2**9, gamma=2**-11).fit(x_train, y_train)\n"
   ]
  }
 ],
 "metadata": {
  "interpreter": {
   "hash": "3e5e67dba9ec50688b51d210d69127116c7da1f67ec0df7da4b6c1a14dc73fba"
  },
  "kernelspec": {
   "display_name": "Python 3.9.10 ('py3-data')",
   "language": "python",
   "name": "python3"
  },
  "language_info": {
   "codemirror_mode": {
    "name": "ipython",
    "version": 3
   },
   "file_extension": ".py",
   "mimetype": "text/x-python",
   "name": "python",
   "nbconvert_exporter": "python",
   "pygments_lexer": "ipython3",
   "version": "3.9.10"
  },
  "orig_nbformat": 4
 },
 "nbformat": 4,
 "nbformat_minor": 2
}
